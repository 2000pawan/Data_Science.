{
 "cells": [
  {
   "cell_type": "code",
   "execution_count": 1,
   "id": "97a87e38-34fc-429a-b562-c04fe4656fad",
   "metadata": {
    "tags": []
   },
   "outputs": [
    {
     "name": "stdin",
     "output_type": "stream",
     "text": [
      " 1\n",
      " 1\n",
      " 1\n",
      " 3\n"
     ]
    },
    {
     "name": "stdout",
     "output_type": "stream",
     "text": [
      "[[0, 0, 0], [0, 0, 1], [0, 1, 0], [0, 1, 1], [1, 0, 0], [1, 0, 1], [1, 1, 0]]\n"
     ]
    }
   ],
   "source": [
    "if __name__ == '__main__':\n",
    "    x = int(input())\n",
    "    y = int(input())\n",
    "    z = int(input())\n",
    "    n = int(input())\n",
    "d=[[i,j,k] for i in range(x + 1) for j in range(y+1) for k in range(z+1)if (i+j+k) !=n]\n",
    "print(d)"
   ]
  },
  {
   "cell_type": "code",
   "execution_count": 4,
   "id": "ea9b5e4f-d4a4-4803-8dfd-76d21c3ee2ba",
   "metadata": {
    "tags": []
   },
   "outputs": [
    {
     "name": "stdin",
     "output_type": "stream",
     "text": [
      " 5\n",
      " 2 3 6 6 5\n"
     ]
    },
    {
     "name": "stdout",
     "output_type": "stream",
     "text": [
      "[<map object at 0x000001E3CDF75B10>]\n"
     ]
    }
   ],
   "source": [
    "if __name__ == '__main__':\n",
    "    n = int(input())\n",
    "    arr = map(int, input().split())\n",
    "    p=[]\n",
    "    p.append(arr)\n",
    "    print(p)"
   ]
  },
  {
   "cell_type": "code",
   "execution_count": 1,
   "id": "ac3737d5-2efe-4818-978b-720740c22ed4",
   "metadata": {
    "tags": []
   },
   "outputs": [
    {
     "name": "stdin",
     "output_type": "stream",
     "text": [
      "Enter the number of student:- 5\n",
      " Harry\n",
      " 37.21\n",
      " Berry\n",
      " 37.21\n",
      " Tina\n",
      " 37.2\n",
      " Akriti\n",
      " 41\n",
      " Harsh\n",
      " 39\n"
     ]
    },
    {
     "name": "stdout",
     "output_type": "stream",
     "text": [
      "Berry\n",
      "Harry\n"
     ]
    }
   ],
   "source": [
    "if __name__ == '__main__':\n",
    "    n=int(input('Enter the number of student:-'))\n",
    "    p=[]\n",
    "    for _ in range(n):\n",
    "        name = input()\n",
    "        score = float(input())\n",
    "        p.append([name, score])\n",
    "    p.sort(key=lambda x: (x[1], x[0]))\n",
    "    q=sorted(set([score for name, score in p]))[1]\n",
    "    for name, score in p:\n",
    "        if score==q:\n",
    "            print(name)"
   ]
  },
  {
   "cell_type": "code",
   "execution_count": 4,
   "id": "33198342-fde7-4020-b4b2-6ece7e1008b2",
   "metadata": {
    "tags": []
   },
   "outputs": [
    {
     "name": "stdin",
     "output_type": "stream",
     "text": [
      " 3\n",
      " krishna 67 68 69\n",
      " arjun 70 98 63\n",
      " malika 52 56 60\n",
      " malik\n"
     ]
    },
    {
     "name": "stdout",
     "output_type": "stream",
     "text": [
      "{'krishna': [67.0, 68.0, 69.0], 'arjun': [70.0, 98.0, 63.0], 'malika': [52.0, 56.0, 60.0]}\n"
     ]
    }
   ],
   "source": [
    "if __name__ == '__main__':\n",
    "    n = int(input())\n",
    "    student_marks = {}\n",
    "    for _ in range(n):\n",
    "        name, *line = input().split()\n",
    "        scores = list(map(float, line))\n",
    "        student_marks[name] = scores\n",
    "    query_name = input()\n",
    "    print(student_marks)"
   ]
  },
  {
   "cell_type": "code",
   "execution_count": 5,
   "id": "cfe6feea-bd46-4253-8f70-09e010e87b42",
   "metadata": {
    "tags": []
   },
   "outputs": [
    {
     "name": "stdin",
     "output_type": "stream",
     "text": [
      " 1 2 3\n"
     ]
    },
    {
     "ename": "ValueError",
     "evalue": "invalid literal for int() with base 10: '1 2 3'",
     "output_type": "error",
     "traceback": [
      "\u001b[1;31m---------------------------------------------------------------------------\u001b[0m",
      "\u001b[1;31mValueError\u001b[0m                                Traceback (most recent call last)",
      "Cell \u001b[1;32mIn[5], line 2\u001b[0m\n\u001b[0;32m      1\u001b[0m \u001b[38;5;28;01mif\u001b[39;00m \u001b[38;5;18m__name__\u001b[39m \u001b[38;5;241m==\u001b[39m \u001b[38;5;124m'\u001b[39m\u001b[38;5;124m__main__\u001b[39m\u001b[38;5;124m'\u001b[39m:\n\u001b[1;32m----> 2\u001b[0m     n \u001b[38;5;241m=\u001b[39m \u001b[38;5;28;43mint\u001b[39;49m\u001b[43m(\u001b[49m\u001b[38;5;28;43minput\u001b[39;49m\u001b[43m(\u001b[49m\u001b[43m)\u001b[49m\u001b[43m)\u001b[49m\n\u001b[0;32m      3\u001b[0m     x\u001b[38;5;241m=\u001b[39m[]\n\u001b[0;32m      4\u001b[0m     x\u001b[38;5;241m.\u001b[39mappend(n)\n",
      "\u001b[1;31mValueError\u001b[0m: invalid literal for int() with base 10: '1 2 3'"
     ]
    }
   ],
   "source": [
    "if __name__ == '__main__':\n",
    "    n = int(input())\n",
    "    x=[]\n",
    "    x.append(n)\n",
    "    x"
   ]
  },
  {
   "cell_type": "code",
   "execution_count": 10,
   "id": "e9e20c6e-6d32-41eb-8b9f-f79c89f2c9e8",
   "metadata": {
    "tags": []
   },
   "outputs": [
    {
     "name": "stdin",
     "output_type": "stream",
     "text": [
      " 2\n",
      " 1 2\n"
     ]
    },
    {
     "ename": "AttributeError",
     "evalue": "module 'typing' has no attribute 'uint'",
     "output_type": "error",
     "traceback": [
      "\u001b[1;31m---------------------------------------------------------------------------\u001b[0m",
      "\u001b[1;31mAttributeError\u001b[0m                            Traceback (most recent call last)",
      "Cell \u001b[1;32mIn[10], line 4\u001b[0m\n\u001b[0;32m      2\u001b[0m n\u001b[38;5;241m=\u001b[39m\u001b[38;5;28mint\u001b[39m(\u001b[38;5;28minput\u001b[39m())\n\u001b[0;32m      3\u001b[0m t\u001b[38;5;241m=\u001b[39m\u001b[38;5;28mtuple\u001b[39m(\u001b[38;5;28mmap\u001b[39m(\u001b[38;5;28mint\u001b[39m, \u001b[38;5;28minput\u001b[39m()\u001b[38;5;241m.\u001b[39msplit()))\n\u001b[1;32m----> 4\u001b[0m \u001b[38;5;28mprint\u001b[39m(\u001b[43mtyping\u001b[49m\u001b[38;5;241;43m.\u001b[39;49m\u001b[43muint\u001b[49m(\u001b[38;5;28mhash\u001b[39m(t)))\n",
      "\u001b[1;31mAttributeError\u001b[0m: module 'typing' has no attribute 'uint'"
     ]
    }
   ],
   "source": [
    "import typing\n",
    "n=int(input())\n",
    "t=tuple(map(int, input().split()))\n",
    "print(typing.uint(hash(t)))"
   ]
  },
  {
   "cell_type": "code",
   "execution_count": 6,
   "id": "af2711ff-48b6-44fd-9882-f8f66b7ffbd8",
   "metadata": {},
   "outputs": [
    {
     "name": "stdout",
     "output_type": "stream",
     "text": [
      "[]\n",
      "[[1, 1, 3], [3, 4, 5], [7, 8, 9]]\n"
     ]
    }
   ],
   "source": [
    "def divide_array(nums, k):\n",
    "    nums.sort() \n",
    "    result = []\n",
    "    current_array = []\n",
    "    for num in nums:\n",
    "        if not current_array: \n",
    "            current_array.append(num)\n",
    "        elif num - current_array[0] <= k and len(current_array) < 3:\n",
    "            current_array.append(num)\n",
    "        else:\n",
    "            if len(current_array) != 3:  \n",
    "                return []\n",
    "            result.append(current_array)\n",
    "            current_array = [num]  \n",
    "    if len(current_array) != 3: \n",
    "        return []\n",
    "    result.append(current_array)\n",
    "    return result"
   ]
  },
  {
   "cell_type": "code",
   "execution_count": 3,
   "id": "43d86fbf-d755-434f-af1e-dd670e28fa9d",
   "metadata": {
    "tags": []
   },
   "outputs": [
    {
     "name": "stdout",
     "output_type": "stream",
     "text": [
      "[1, 3, 4, 8, 7, 9, 3, 5, 1]\n"
     ]
    },
    {
     "data": {
      "text/plain": [
       "9"
      ]
     },
     "execution_count": 3,
     "metadata": {},
     "output_type": "execute_result"
    }
   ],
   "source": [
    "x=[1,3,4,8,7,9,3,5,1]\n",
    "print(x)\n",
    "y=sorted(x)\n",
    "len(y)\n"
   ]
  },
  {
   "cell_type": "code",
   "execution_count": 18,
   "id": "e638d7ea-7fb3-4e9d-9e17-d77c5421dc3b",
   "metadata": {},
   "outputs": [
    {
     "name": "stdout",
     "output_type": "stream",
     "text": [
      "1\n",
      "22\n",
      "333\n",
      "4444\n"
     ]
    }
   ],
   "source": [
    "for i in range(1,5):\n",
    "        print(i * (str(i) + ''))"
   ]
  },
  {
   "cell_type": "code",
   "execution_count": 19,
   "id": "2e8264d1-6147-4b33-8550-4ca638d383e4",
   "metadata": {
    "tags": []
   },
   "outputs": [
    {
     "name": "stdout",
     "output_type": "stream",
     "text": [
      "1\n",
      "22\n",
      "333\n",
      "4444\n"
     ]
    }
   ],
   "source": [
    "for i in range(1, 5):\n",
    "    print(''.join([chr(48 + i)] * i))"
   ]
  },
  {
   "cell_type": "code",
   "execution_count": 20,
   "id": "6c549ad4-6cec-40e9-bca8-fed947da74e2",
   "metadata": {
    "tags": []
   },
   "outputs": [
    {
     "name": "stdout",
     "output_type": "stream",
     "text": [
      "1\n",
      "22\n",
      "333\n",
      "4444\n"
     ]
    }
   ],
   "source": [
    "for i in range(1, 5):\n",
    "    print((i * '1') if i == 1 else (i * '2') if i == 2 else (i * '3') if i == 3 else (i * '4'))"
   ]
  },
  {
   "cell_type": "code",
   "execution_count": 22,
   "id": "965bc52f-f041-41ab-8ccd-419f10a678ec",
   "metadata": {
    "tags": []
   },
   "outputs": [
    {
     "name": "stdout",
     "output_type": "stream",
     "text": [
      "1\n",
      "22\n",
      "333\n",
      "4444\n"
     ]
    }
   ],
   "source": [
    "for i in range(1, 5):\n",
    "    print((i * (10 ** i - 1)) // 9)"
   ]
  },
  {
   "cell_type": "code",
   "execution_count": 24,
   "id": "96698a8c-6a67-4af3-bab8-9b12ab774413",
   "metadata": {
    "tags": []
   },
   "outputs": [
    {
     "ename": "KeyError",
     "evalue": "'OUTPUT_PATH'",
     "output_type": "error",
     "traceback": [
      "\u001b[1;31m---------------------------------------------------------------------------\u001b[0m",
      "\u001b[1;31mKeyError\u001b[0m                                  Traceback (most recent call last)",
      "Cell \u001b[1;32mIn[24], line 28\u001b[0m\n\u001b[0;32m     25\u001b[0m     \u001b[38;5;28;01mreturn\u001b[39;00m trip_count\n\u001b[0;32m     27\u001b[0m \u001b[38;5;28;01mif\u001b[39;00m \u001b[38;5;18m__name__\u001b[39m \u001b[38;5;241m==\u001b[39m \u001b[38;5;124m'\u001b[39m\u001b[38;5;124m__main__\u001b[39m\u001b[38;5;124m'\u001b[39m:\n\u001b[1;32m---> 28\u001b[0m     fptr \u001b[38;5;241m=\u001b[39m \u001b[38;5;28mopen\u001b[39m(\u001b[43mos\u001b[49m\u001b[38;5;241;43m.\u001b[39;49m\u001b[43menviron\u001b[49m\u001b[43m[\u001b[49m\u001b[38;5;124;43m'\u001b[39;49m\u001b[38;5;124;43mOUTPUT_PATH\u001b[39;49m\u001b[38;5;124;43m'\u001b[39;49m\u001b[43m]\u001b[49m, \u001b[38;5;124m'\u001b[39m\u001b[38;5;124mw\u001b[39m\u001b[38;5;124m'\u001b[39m)\n\u001b[0;32m     30\u001b[0m     weight_count \u001b[38;5;241m=\u001b[39m \u001b[38;5;28mint\u001b[39m(\u001b[38;5;28minput\u001b[39m()\u001b[38;5;241m.\u001b[39mstrip())\n\u001b[0;32m     32\u001b[0m     weight \u001b[38;5;241m=\u001b[39m []\n",
      "File \u001b[1;32m<frozen os>:679\u001b[0m, in \u001b[0;36m__getitem__\u001b[1;34m(self, key)\u001b[0m\n",
      "\u001b[1;31mKeyError\u001b[0m: 'OUTPUT_PATH'"
     ]
    }
   ],
   "source": [
    "import math\n",
    "import os\n",
    "import random\n",
    "import re\n",
    "import sys\n",
    "\n",
    "\n",
    "#\n",
    "# Complete the 'efficientJanitor' function below.\n",
    "#\n",
    "# The function is expected to return an INTEGER.\n",
    "# The function accepts FLOAT_ARRAY weight as parameter.\n",
    "#\n",
    "\n",
    "def efficientJanitor(weight):\n",
    "    weight.sort()\n",
    "    trip_count=0\n",
    "    left=0\n",
    "    right=len(weight)-1\n",
    "    while left <= right:\n",
    "        if weight[left] + weight[right] <= 3.00:\n",
    "            left+=1\n",
    "        right-=1\n",
    "        trip_count=1\n",
    "    return trip_count\n",
    "    \n",
    "if __name__ == '__main__':\n",
    "    fptr = open(os.environ['OUTPUT_PATH'], 'w')\n",
    "\n",
    "    weight_count = int(input().strip())\n",
    "\n",
    "    weight = []\n",
    "\n",
    "    for _ in range(weight_count):\n",
    "        weight_item = float(input().strip())\n",
    "        weight.append(weight_item)\n",
    "\n",
    "    result = efficientJanitor(weight)\n",
    "    print(result)\n",
    "\n",
    "    fptr.write(str(result) + '\\n')\n",
    "\n",
    "    fptr.close()\n"
   ]
  },
  {
   "cell_type": "code",
   "execution_count": 34,
   "id": "6647b924-ac4f-455a-8f54-d1d9110fa1ff",
   "metadata": {
    "tags": []
   },
   "outputs": [
    {
     "data": {
      "text/plain": [
       "2"
      ]
     },
     "execution_count": 34,
     "metadata": {},
     "output_type": "execute_result"
    }
   ],
   "source": [
    "s='ABCDCDC'\n",
    "x='CDC'\n",
    "c=0\n",
    "for i in range(len(x)-1):\n",
    "    if x in s:\n",
    "        c+=1\n",
    "c"
   ]
  },
  {
   "cell_type": "code",
   "execution_count": 5,
   "id": "00185ff8-d8e6-409b-80c5-32066da77cd9",
   "metadata": {
    "tags": []
   },
   "outputs": [],
   "source": [
    "class pawan():\n",
    "    def __init__(self):\n",
    "        pass\n",
    "    def personal_information(self):\n",
    "        print('I am Pawan Yadav.\\nI am an AI Engineer.\\nMobile No:-8882293337\\nCity:- Noida',sep='')\n",
    "    def future_plan(self):\n",
    "        print('I want to complete my M-Tech in Artificial Intelligence.\\nThen after I want to do PHD in Artificial Intelligence.\\nPAWAN YADAV..................',sep='')"
   ]
  },
  {
   "cell_type": "code",
   "execution_count": 8,
   "id": "81d9604f-ae96-413b-b24a-95ecc4e0d134",
   "metadata": {
    "tags": []
   },
   "outputs": [
    {
     "name": "stdout",
     "output_type": "stream",
     "text": [
      "I am Pawan Yadav.\n",
      "I am an AI Engineer.\n",
      "Mobile No:-8882293337\n",
      "City:- Noida\n",
      "..........................................................................................................\n",
      "I want to complete my M-Tech in Artificial Intelligence.\n",
      "Then after I want to do PHD in Artificial Intelligence.\n",
      "PAWAN YADAV..................\n"
     ]
    }
   ],
   "source": [
    "c=pawan()\n",
    "c.personal_information()\n",
    "print('..........................................................................................................')\n",
    "c.future_plan()"
   ]
  },
  {
   "cell_type": "code",
   "execution_count": 1,
   "id": "86722f1c-a731-4d66-a972-185846e66c4b",
   "metadata": {},
   "outputs": [
    {
     "name": "stdin",
     "output_type": "stream",
     "text": [
      " 08 05 2020\n"
     ]
    },
    {
     "ename": "TypeError",
     "evalue": "'_localized_day' object is not callable",
     "output_type": "error",
     "traceback": [
      "\u001b[1;31m---------------------------------------------------------------------------\u001b[0m",
      "\u001b[1;31mTypeError\u001b[0m                                 Traceback (most recent call last)",
      "Cell \u001b[1;32mIn[1], line 3\u001b[0m\n\u001b[0;32m      1\u001b[0m \u001b[38;5;28;01mimport\u001b[39;00m \u001b[38;5;21;01mcalendar\u001b[39;00m \u001b[38;5;28;01mas\u001b[39;00m \u001b[38;5;21;01mcd\u001b[39;00m\n\u001b[0;32m      2\u001b[0m x\u001b[38;5;241m=\u001b[39m\u001b[38;5;28minput\u001b[39m()\u001b[38;5;241m.\u001b[39msplit()\n\u001b[1;32m----> 3\u001b[0m y\u001b[38;5;241m=\u001b[39m\u001b[43mcd\u001b[49m\u001b[38;5;241;43m.\u001b[39;49m\u001b[43mday_name\u001b[49m\u001b[43m(\u001b[49m\u001b[43mx\u001b[49m\u001b[43m)\u001b[49m\n\u001b[0;32m      4\u001b[0m y\n",
      "\u001b[1;31mTypeError\u001b[0m: '_localized_day' object is not callable"
     ]
    }
   ],
   "source": [
    "import calendar as cd\n",
    "x=input().split()\n",
    "y=cd.day_name()\n",
    "y"
   ]
  },
  {
   "cell_type": "code",
   "execution_count": 2,
   "id": "a3c016a2-de55-426e-bfa3-ecc54125a915",
   "metadata": {
    "tags": []
   },
   "outputs": [
    {
     "name": "stdin",
     "output_type": "stream",
     "text": [
      " 08 05 2024\n"
     ]
    },
    {
     "name": "stdout",
     "output_type": "stream",
     "text": [
      "MONDAY\n"
     ]
    }
   ],
   "source": [
    "import calendar\n",
    "\n",
    "# Input format: \"month day year\"\n",
    "input_date = input().strip()\n",
    "month, day, year = map(int, input_date.split())\n",
    "\n",
    "# Get the day of the week as an integer (0 for Monday, 1 for Tuesday, ..., 6 for Sunday)\n",
    "day_of_week_index = calendar.weekday(year, month, day)\n",
    "\n",
    "# Convert the day of the week index to the corresponding day name in uppercase\n",
    "day_of_week = calendar.day_name[day_of_week_index].upper()\n",
    "\n",
    "print(day_of_week)\n"
   ]
  },
  {
   "cell_type": "markdown",
   "id": "db717a3e-a407-4555-90e0-a5087942e982",
   "metadata": {
    "tags": []
   },
   "source": [
    "### from datetime import datetime\n",
    "import pytz\n",
    "\n",
    "def get_absolute_time_difference(time1, time2):\n",
    "    # Define a format string to parse the timestamps\n",
    "    format_string = \"%a %d %b %Y %H:%M:%S %z\"\n",
    "    \n",
    "    # Parse the timestamps\n",
    "    timestamp1 = datetime.strptime(time1, format_string)\n",
    "    timestamp2 = datetime.strptime(time2, format_string)\n",
    "    \n",
    "    # Convert timestamps to UTC\n",
    "    timestamp1_utc = timestamp1.astimezone(pytz.utc)\n",
    "    timestamp2_utc = timestamp2.astimezone(pytz.utc)\n",
    "    \n",
    "    # Calculate the absolute difference in seconds\n",
    "    difference_seconds = abs((timestamp1_utc - timestamp2_utc).total_seconds())\n",
    "    \n",
    "    return int(difference_seconds)\n",
    "\n",
    "# Input number of test cases\n",
    "test_cases = int(input().strip())\n",
    "\n",
    "# Iterate through each test case\n",
    "for _ in range(test_cases):\n",
    "    # Input timestamps\n",
    "    time1 = input().strip()\n",
    "    time2 = input().strip()\n",
    "    \n",
    "    # Calculate and print the absolute difference\n",
    "    print(get_absolute_time_difference(time1, time2))\n"
   ]
  },
  {
   "cell_type": "code",
   "execution_count": 10,
   "id": "437bd622-cce9-490f-b4b0-cf957247a3e2",
   "metadata": {
    "tags": []
   },
   "outputs": [
    {
     "name": "stdin",
     "output_type": "stream",
     "text": [
      " 3\n",
      " 4 2\n",
      " 5 2\n",
      " 6 2\n"
     ]
    },
    {
     "name": "stdout",
     "output_type": "stream",
     "text": [
      "3.0\n",
      "3.0\n",
      "3.0\n"
     ]
    }
   ],
   "source": [
    "t=int(input())\n",
    "for i in range(t):\n",
    "    x=input().split()\n",
    "    a, b= x\n",
    "    try:\n",
    "        z=int(a)/int(b)\n",
    "        print(z)\n",
    "    except ZeroDivisionError as e:\n",
    "        print('Error Code:', e)"
   ]
  },
  {
   "cell_type": "code",
   "execution_count": 11,
   "id": "c3cbc134-a9ae-4eff-a35d-182706da3472",
   "metadata": {
    "tags": []
   },
   "outputs": [
    {
     "name": "stdin",
     "output_type": "stream",
     "text": [
      " 3\n",
      " 1 0\n"
     ]
    },
    {
     "name": "stdout",
     "output_type": "stream",
     "text": [
      "Error Code: integer division or modulo by zero\n"
     ]
    },
    {
     "name": "stdin",
     "output_type": "stream",
     "text": [
      " 1 $\n"
     ]
    },
    {
     "name": "stdout",
     "output_type": "stream",
     "text": [
      "Error Code: invalid literal for int() with base 10: 1\n"
     ]
    },
    {
     "name": "stdin",
     "output_type": "stream",
     "text": [
      " 3 1\n"
     ]
    },
    {
     "name": "stdout",
     "output_type": "stream",
     "text": [
      "3\n"
     ]
    }
   ],
   "source": [
    "def perform_integer_division(a, b):\n",
    "    try:\n",
    "        result = a // b\n",
    "        print(result)\n",
    "    except ZeroDivisionError:\n",
    "        print(\"Error Code: integer division or modulo by zero\")\n",
    "    except ValueError:\n",
    "        print(\"Error Code: invalid literal for int() with base 10:\", b)\n",
    "t = int(input())\n",
    "for _ in range(t):\n",
    "    a, b = input().split()\n",
    "    try:\n",
    "        a = int(a)\n",
    "        b = int(b)\n",
    "        perform_integer_division(a, b)\n",
    "    except ValueError:\n",
    "        print(\"Error Code: invalid literal for int() with base 10:\", a)"
   ]
  },
  {
   "cell_type": "code",
   "execution_count": 19,
   "id": "532036a1-7e4b-40f6-8340-61b17d33065c",
   "metadata": {
    "tags": []
   },
   "outputs": [
    {
     "name": "stdin",
     "output_type": "stream",
     "text": [
      " 3 3 3\n"
     ]
    },
    {
     "name": "stdout",
     "output_type": "stream",
     "text": [
      "3\n",
      "[[[0. 0. 0.]\n",
      "  [0. 0. 0.]\n",
      "  [0. 0. 0.]]\n",
      "\n",
      " [[0. 0. 0.]\n",
      "  [0. 0. 0.]\n",
      "  [0. 0. 0.]]\n",
      "\n",
      " [[0. 0. 0.]\n",
      "  [0. 0. 0.]\n",
      "  [0. 0. 0.]]]\n",
      "[[[1. 1. 1.]\n",
      "  [1. 1. 1.]\n",
      "  [1. 1. 1.]]\n",
      "\n",
      " [[1. 1. 1.]\n",
      "  [1. 1. 1.]\n",
      "  [1. 1. 1.]]\n",
      "\n",
      " [[1. 1. 1.]\n",
      "  [1. 1. 1.]\n",
      "  [1. 1. 1.]]]\n"
     ]
    }
   ],
   "source": [
    "import numpy as np\n",
    "\n",
    "x=input().split()\n",
    "a, b, c=x\n",
    "p=int(a)\n",
    "q=int(b)\n",
    "r=int(c)\n",
    "print(p)\n",
    "x=np.zeros((p, q, r))\n",
    "y=np.ones((p, q, r))\n",
    "print(x)\n",
    "print(y)"
   ]
  },
  {
   "cell_type": "code",
   "execution_count": 1,
   "id": "ee80e586-c9b5-4a6c-ae6e-fc101b8b8e18",
   "metadata": {},
   "outputs": [],
   "source": [
    "from sklearn.neighbors import KNeighborsClassifier"
   ]
  },
  {
   "cell_type": "code",
   "execution_count": null,
   "id": "26b66344-f57e-40dc-a9cc-d51795d9dbfc",
   "metadata": {},
   "outputs": [],
   "source": [
    "m=KNeighborsClassifier()"
   ]
  }
 ],
 "metadata": {
  "kernelspec": {
   "display_name": "Python 3 (ipykernel)",
   "language": "python",
   "name": "python3"
  },
  "language_info": {
   "codemirror_mode": {
    "name": "ipython",
    "version": 3
   },
   "file_extension": ".py",
   "mimetype": "text/x-python",
   "name": "python",
   "nbconvert_exporter": "python",
   "pygments_lexer": "ipython3",
   "version": "3.11.3"
  }
 },
 "nbformat": 4,
 "nbformat_minor": 5
}
