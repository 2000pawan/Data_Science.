{
 "cells": [
  {
   "cell_type": "code",
   "execution_count": null,
   "id": "41bfd392-401e-41b2-be75-f2aef2948802",
   "metadata": {
    "editable": true,
    "slideshow": {
     "slide_type": ""
    },
    "tags": []
   },
   "outputs": [],
   "source": [
    "import joblib\n",
    "from sklearn.pipeline import Pipeline"
   ]
  },
  {
   "cell_type": "code",
   "execution_count": null,
   "id": "a95304a0-b626-4aaf-8b53-064be8e312ce",
   "metadata": {
    "tags": []
   },
   "outputs": [],
   "source": [
    "import pickle"
   ]
  },
  {
   "cell_type": "code",
   "execution_count": null,
   "id": "948ec573-d0b9-4686-a8d5-e1db6d1114cc",
   "metadata": {
    "tags": []
   },
   "outputs": [],
   "source": [
    "data={'name':'Pawan Yadav'}\n",
    "with open('G:/pawan.pkl','wb')as f:\n",
    "    pickle.dump(data,f)"
   ]
  },
  {
   "cell_type": "code",
   "execution_count": null,
   "id": "89b44bcf-2269-4b72-95ac-f15dfa4fca8d",
   "metadata": {
    "tags": []
   },
   "outputs": [],
   "source": [
    "with open('G:/pawan.pkl', 'rb') as f:\n",
    "    p=pickle.load(f)"
   ]
  },
  {
   "cell_type": "code",
   "execution_count": null,
   "id": "c712b24a-f318-400a-9c9c-4f48a04c1bdb",
   "metadata": {
    "tags": []
   },
   "outputs": [],
   "source": [
    "p"
   ]
  },
  {
   "cell_type": "code",
   "execution_count": null,
   "id": "45940788-74a6-4092-b73e-a88d528105cc",
   "metadata": {
    "tags": []
   },
   "outputs": [],
   "source": [
    "joblib.dump(data,'G:/joblib.joblib')"
   ]
  },
  {
   "cell_type": "code",
   "execution_count": null,
   "id": "812d90d0-2a60-4fe7-9f8b-4ea4368f2c9c",
   "metadata": {
    "tags": []
   },
   "outputs": [],
   "source": [
    "joblib.dump(data,'G:/joblib.pkl')"
   ]
  },
  {
   "cell_type": "code",
   "execution_count": null,
   "id": "70d2d13f-42fc-45ba-86c2-d0d7c11a8310",
   "metadata": {
    "tags": []
   },
   "outputs": [],
   "source": [
    "joblib.dump(data,'G:/joblib.pickle')"
   ]
  },
  {
   "cell_type": "code",
   "execution_count": null,
   "id": "9f6689df-ac66-4f2f-8065-0c506b31a130",
   "metadata": {
    "tags": []
   },
   "outputs": [],
   "source": [
    "pic=joblib.load('G:/joblib.pickle')\n",
    "p=joblib.load('G:/joblib.pkl')\n",
    "j=joblib.load('G:/joblib.joblib')"
   ]
  },
  {
   "cell_type": "code",
   "execution_count": null,
   "id": "e7ffd2b9-83d0-4b61-ae7e-f1368d00898b",
   "metadata": {
    "tags": []
   },
   "outputs": [],
   "source": [
    "print(pic)\n",
    "print()\n",
    "print(p)\n",
    "print()\n",
    "print(j)"
   ]
  },
  {
   "cell_type": "code",
   "execution_count": null,
   "id": "44427aff-6b5e-4ac8-9202-e165539c0945",
   "metadata": {
    "tags": []
   },
   "outputs": [],
   "source": [
    "from sklearn.neighbors import KNeighborsClassifier\n",
    "import pandas as pd"
   ]
  },
  {
   "cell_type": "code",
   "execution_count": null,
   "id": "18a99ecb-1081-4d62-9d8a-d8a3cdcab50f",
   "metadata": {
    "tags": []
   },
   "outputs": [],
   "source": [
    "df=pd.read_csv('G:/dataset/classification/fruits.csv')"
   ]
  },
  {
   "cell_type": "code",
   "execution_count": null,
   "id": "7cb0690f-8fdf-494b-9381-046862d53886",
   "metadata": {
    "tags": []
   },
   "outputs": [],
   "source": [
    "X=df.iloc[:,:-1]\n",
    "y=df.iloc[:,-1]"
   ]
  },
  {
   "cell_type": "code",
   "execution_count": null,
   "id": "c161b5c7-f139-4e2a-a905-b916a379763f",
   "metadata": {
    "tags": []
   },
   "outputs": [],
   "source": [
    "model=KNeighborsClassifier()\n",
    "model.fit(X,y)"
   ]
  },
  {
   "cell_type": "code",
   "execution_count": null,
   "id": "0bb60969-70d2-4117-84f4-a86e9c6acac4",
   "metadata": {
    "tags": []
   },
   "outputs": [],
   "source": [
    "import json\n",
    "import joblib"
   ]
  },
  {
   "cell_type": "code",
   "execution_count": null,
   "id": "118bd43b-37bc-487c-8620-4031f757c9fc",
   "metadata": {
    "tags": []
   },
   "outputs": [],
   "source": [
    "joblib.dump(model,'G:/model.pkl')"
   ]
  },
  {
   "cell_type": "code",
   "execution_count": null,
   "id": "db7bc651-710d-4df1-86d0-c59b1e0745e2",
   "metadata": {
    "tags": []
   },
   "outputs": [],
   "source": [
    "m=joblib.load('G:/model.pkl')"
   ]
  },
  {
   "cell_type": "code",
   "execution_count": null,
   "id": "54b636c4-b2ee-4842-9631-522e18b22212",
   "metadata": {
    "tags": []
   },
   "outputs": [],
   "source": [
    "m.predict([[2.2,50]])"
   ]
  },
  {
   "cell_type": "code",
   "execution_count": null,
   "id": "81cd03b6-4b94-44a8-b6ee-d4be4e0b2c73",
   "metadata": {},
   "outputs": [],
   "source": [
    "nums=[2,11,10,1,3]\n",
    "k=10\n",
    "nums.sort()\n",
    "y=[]\n",
    "x=[i for i in nums[:2]]\n",
    "for i in x:\n",
    "    nums.remove(i)\n",
    "print(x)\n",
    "nums"
   ]
  },
  {
   "cell_type": "code",
   "execution_count": null,
   "id": "72f5567c-effa-4ad5-9343-7887db4e54f8",
   "metadata": {
    "tags": []
   },
   "outputs": [],
   "source": [
    "nums=[1,1,2,4,9]  #[2,11,10,1,3]\n",
    "k=20\n",
    "nums.sort()\n",
    "c=0\n",
    "while nums[0] < k:\n",
    "    x,y=nums.pop(0),nums.pop(0)\n",
    "    z=x*2+y\n",
    "    nums.insert(0,z)\n",
    "    c+=1\n",
    "    nums.sort()\n",
    "print(c)"
   ]
  },
  {
   "cell_type": "code",
   "execution_count": null,
   "id": "85bbdc0d-be02-4b5a-bf8e-a8e469cf6795",
   "metadata": {
    "tags": []
   },
   "outputs": [],
   "source": [
    "nums=[1,1,2,4,9]  #[2,11,10,1,3]\n",
    "k=20\n",
    "y=[]\n",
    "c=[]\n",
    "for i in nums:\n",
    "    if i>=k:\n",
    "        y.append(i)\n",
    "    else:\n",
    "        nums.sort()\n",
    "        x=[i for i in nums[:2]]\n",
    "        for i in x:\n",
    "            nums.remove(i)\n",
    "        z=min(x)*2+max(x)\n",
    "        nums.append(z)\n",
    "        x.clear()\n",
    "        c.append(z)\n",
    "print(c)"
   ]
  },
  {
   "cell_type": "code",
   "execution_count": null,
   "id": "3ab29b55-a52e-4e61-95bb-28b36274e341",
   "metadata": {},
   "outputs": [],
   "source": [
    "nums=[1,0,1,0,1]\n",
    "goal=2\n",
    "count = {0: 1}\n",
    "curr_sum = 0\n",
    "total_subarrays = 0\n",
    "for num in nums:\n",
    "    curr_sum += num\n",
    "    if curr_sum - goal in count:\n",
    "        total_subarrays += count[curr_sum - goal]\n",
    "    count[curr_sum] = count.get(curr_sum, 0) + 1\n",
    "print(total_subarrays)"
   ]
  },
  {
   "cell_type": "code",
   "execution_count": null,
   "id": "3a4e205f-f4b6-49f6-8676-146da5d69c14",
   "metadata": {},
   "outputs": [],
   "source": []
  }
 ],
 "metadata": {
  "kernelspec": {
   "display_name": "Python 3 (ipykernel)",
   "language": "python",
   "name": "python3"
  },
  "language_info": {
   "codemirror_mode": {
    "name": "ipython",
    "version": 3
   },
   "file_extension": ".py",
   "mimetype": "text/x-python",
   "name": "python",
   "nbconvert_exporter": "python",
   "pygments_lexer": "ipython3",
   "version": "3.12.7"
  },
  "widgets": {
   "application/vnd.jupyter.widget-state+json": {
    "state": {},
    "version_major": 2,
    "version_minor": 0
   }
  }
 },
 "nbformat": 4,
 "nbformat_minor": 5
}
