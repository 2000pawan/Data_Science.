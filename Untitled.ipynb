{
 "cells": [
  {
   "cell_type": "code",
   "execution_count": 43,
   "id": "57ef394d-9ab3-42a9-bb20-e36a1649126b",
   "metadata": {},
   "outputs": [
    {
     "ename": "SyntaxError",
     "evalue": "invalid syntax (1500032095.py, line 1)",
     "output_type": "error",
     "traceback": [
      "\u001b[1;36m  Cell \u001b[1;32mIn[43], line 1\u001b[1;36m\u001b[0m\n\u001b[1;33m    Input: txt = \"abcab\", pat = \"ab\"\u001b[0m\n\u001b[1;37m                              ^\u001b[0m\n\u001b[1;31mSyntaxError\u001b[0m\u001b[1;31m:\u001b[0m invalid syntax\n"
     ]
    }
   ],
   "source": [
    "Input: txt = \"abcab\", pat = \"ab\"\n",
    "Output: [0, 3]\n",
    "Explanation: The string \"ab\" occurs twice in txt, one starts at index 0 and the other at index 3. "
   ]
  },
  {
   "cell_type": "code",
   "execution_count": 85,
   "id": "2f7f1c30-ead9-462e-a531-bf0a0f6eea76",
   "metadata": {},
   "outputs": [],
   "source": [
    "txt = \"abcab\"\n",
    "pat = \"ab\"\n",
    "l=[]\n",
    "x=txt.split(pat)\n",
    "for i in x:\n",
    "    l.append(x.index(''))\n",
    "    x.remove('')"
   ]
  },
  {
   "cell_type": "code",
   "execution_count": 87,
   "id": "fa1ba207-c09f-4c8c-b7f3-b622c83c6c23",
   "metadata": {},
   "outputs": [
    {
     "data": {
      "text/plain": [
       "[0, 1]"
      ]
     },
     "execution_count": 87,
     "metadata": {},
     "output_type": "execute_result"
    }
   ],
   "source": [
    "l"
   ]
  },
  {
   "cell_type": "code",
   "execution_count": null,
   "id": "676daef8-281e-4a39-acdc-3a3227bdf6a5",
   "metadata": {},
   "outputs": [],
   "source": []
  }
 ],
 "metadata": {
  "kernelspec": {
   "display_name": "Python 3 (ipykernel)",
   "language": "python",
   "name": "python3"
  },
  "language_info": {
   "codemirror_mode": {
    "name": "ipython",
    "version": 3
   },
   "file_extension": ".py",
   "mimetype": "text/x-python",
   "name": "python",
   "nbconvert_exporter": "python",
   "pygments_lexer": "ipython3",
   "version": "3.12.7"
  }
 },
 "nbformat": 4,
 "nbformat_minor": 5
}
