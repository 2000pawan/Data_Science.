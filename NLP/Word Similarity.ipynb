
{
 "cells": [
  {
   "cell_type": "code",
   "execution_count": 4,
   "id": "eeb8ef7a-d10f-4f82-9f44-7f021880a6f4",
   "metadata": {},
   "outputs": [
    {
     "name": "stdout",
     "output_type": "stream",
     "text": [
      "Similarity between 'automobile' and 'car': 1.0\n"
     ]
    }
   ],
   "source": [
    "from nltk.corpus import wordnet\n",
    "def word_similarity(word1, word2):\n",
    "    synsets1 = wordnet.synsets(word1)\n",
    "    synsets2 = wordnet.synsets(word2)\n",
    "    max_similarity = 0.0\n",
    "    for synset1 in synsets1:\n",
    "        for synset2 in synsets2:\n",
    "            similarity = synset1.wup_similarity(synset2)\n",
    "            if similarity is not None and similarity > max_similarity:\n",
    "                max_similarity = similarity   \n",
    "    return max_similarity\n",
    "word1 = \"automobile\"\n",
    "word2 = \"car\"\n",
    "similarity = word_similarity(word1, word2)\n",
    "print(f\"Similarity between '{word1}' and '{word2}': {similarity}\")"
   ]
  },
  {
   "cell_type": "code",
   "execution_count": 2,
   "id": "608d8200-3657-4449-b4f2-f174569461d2",
   "metadata": {},
   "outputs": [
    {
     "name": "stdout",
     "output_type": "stream",
     "text": [
      "Positive Examples:\n",
      "Similarity between 'dog' and 'puppy': 0.896551724137931\n",
      "Similarity between 'book' and 'novel': 0.9411764705882353\n",
      "Similarity between 'ship' and 'boat': 0.9090909090909091\n",
      "Similarity between 'cat' and 'kitten': 0.6\n",
      "Similarity between 'house' and 'home': 1.0\n",
      "Similarity between 'computer' and 'laptop': 0.8181818181818182\n",
      "Similarity between 'teacher' and 'instructor': 1.0\n",
      "Similarity between 'car' and 'vehicle': 0.8888888888888888\n",
      "Similarity between 'phone' and 'cellphone': 0.9\n",
      "Similarity between 'bird' and 'eagle': 0.9090909090909091\n",
      "\n",
      "Negative Examples:\n",
      "Similarity between 'dog' and 'car': 0.6666666666666666\n",
      "Similarity between 'book' and 'phone': 0.5882352941176471\n",
      "Similarity between 'ship' and 'house': 0.5263157894736842\n",
      "Similarity between 'cat' and 'computer': 0.7368421052631579\n",
      "Similarity between 'house' and 'bird': 0.5555555555555556\n",
      "Similarity between 'computer' and 'teacher': 0.6\n",
      "Similarity between 'teacher' and 'ship': 0.36363636363636365\n",
      "Similarity between 'car' and 'book': 0.5882352941176471\n",
      "Similarity between 'phone' and 'cat': 0.6666666666666666\n",
      "Similarity between 'bird' and 'ship': 0.5714285714285714\n"
     ]
    }
   ],
   "source": [
    "# Positive Examples\n",
    "positive_examples = [\n",
    "    (\"dog\", \"puppy\"),\n",
    "    (\"book\", \"novel\"),\n",
    "    (\"ship\", \"boat\"),\n",
    "    (\"cat\", \"kitten\"),\n",
    "    (\"house\", \"home\"),\n",
    "    (\"computer\", \"laptop\"),\n",
    "    (\"teacher\", \"instructor\"),\n",
    "    (\"car\", \"vehicle\"),\n",
    "    (\"phone\", \"cellphone\"),\n",
    "    (\"bird\", \"eagle\")\n",
    "]\n",
    "# Negative Examples\n",
    "negative_examples = [\n",
    "    (\"dog\", \"car\"),\n",
    "    (\"book\", \"phone\"),\n",
    "    (\"ship\", \"house\"),\n",
    "    (\"cat\", \"computer\"),\n",
    "    (\"house\", \"bird\"),\n",
    "    (\"computer\", \"teacher\"),\n",
    "    (\"teacher\", \"ship\"),\n",
    "    (\"car\", \"book\"),\n",
    "    (\"phone\", \"cat\"),\n",
    "    (\"bird\", \"ship\")\n",
    "]\n",
    "# Calculate and print similarity for positive examples\n",
    "print(\"Positive Examples:\")\n",
    "for word1, word2 in positive_examples:\n",
    "    similarity = word_similarity(word1, word2)\n",
    "    print(f\"Similarity between '{word1}' and '{word2}': {similarity}\")\n",
    "# Calculate and print similarity for negative examples\n",
    "print(\"\\nNegative Examples:\")\n",
    "for word1, word2 in negative_examples:\n",
    "    similarity = word_similarity(word1, word2)\n",
    "    print(f\"Similarity between '{word1}' and '{word2}': {similarity}\")"
   ]
  },
  {
   "cell_type": "code",
   "execution_count": null,
   "id": "a684e5db-256d-4de7-a34e-f3ebb41850e2",
   "metadata": {},
   "outputs": [],
   "source": []
  }
 ],
 "metadata": {
  "kernelspec": {
   "display_name": "Python 3 (ipykernel)",
   "language": "python",
   "name": "python3"
  },
  "language_info": {
   "codemirror_mode": {
    "name": "ipython",
    "version": 3
   },
   "file_extension": ".py",
   "mimetype": "text/x-python",
   "name": "python",
   "nbconvert_exporter": "python",
   "pygments_lexer": "ipython3",
   "version": "3.11.7"
  },
  "widgets": {
   "application/vnd.jupyter.widget-state+json": {
    "state": {},
    "version_major": 2,
    "version_minor": 0
   }
  }
 },
 "nbformat": 4,
 "nbformat_minor": 5
}
