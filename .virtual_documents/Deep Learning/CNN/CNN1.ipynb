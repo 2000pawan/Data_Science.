


import numpy as np
import matplotlib.pyplot as plt
import warnings
warnings.filterwarnings('ignore')
from tensorflow.keras.models import Sequential
from tensorflow.keras.datasets.cifar10 import load_data
from tensorflow.keras.layers import Dense,Flatten,Conv2D,MaxPooling2D,Dropout


(X_train,y_train),(X_test,y_test)=load_data()
X_train=X_train/255
X_test=X_test/255
model=Sequential()
model.add(Conv2D(64,(3,3),activation='relu'))
model.add(MaxPooling2D((2,2)))
model.add(Conv2D(32,(3,3),activation='relu'))
model.add(MaxPooling2D((2,2)))
model.add(Flatten())
model.add(Dropout(0.2))
model.add(Dense(200,activation='relu'))
model.add(Dropout(0.2))
model.add(Dense(100,activation='relu'))
model.add(Dense(50,activation='relu'))
model.add(Dense(10,activation='softmax'))
model.compile(loss='sparse_categorical_crossentropy',optimizer='adam',metrics=['accuracy'])
model.fit(X_train,y_train,epochs=50,batch_size=1000,validation_split=0.2)


model.evaluate(X_test,y_test)


(X_train,y_train),(X_test,y_test)=load_data()
X_train=X_train/255
X_test=X_test/255
model=Sequential()
model.add(Conv2D(128,(3,3),activation='relu'))
model.add(Conv2D(64,(3,3),activation='relu'))
model.add(MaxPooling2D((2,2)))
model.add(Conv2D(64,(3,3),activation='relu'))
model.add(MaxPooling2D((2,2)))
model.add(Flatten())
model.add(Dropout(0.2))
model.add(Dense(200,activation='relu'))
model.add(Dropout(0.2))
model.add(Dense(100,activation='relu'))
model.add(Dense(50,activation='relu'))
model.add(Dense(10,activation='softmax'))
model.compile(loss='sparse_categorical_crossentropy',optimizer='adam',metrics=['accuracy'])
model.fit(X_train,y_train,epochs=50,batch_size=500,validation_split=0.2)


model.evaluate(X_test,y_test)





model.save('/content/drive/MyDrive/DataSet/cifar10_model.h5')



