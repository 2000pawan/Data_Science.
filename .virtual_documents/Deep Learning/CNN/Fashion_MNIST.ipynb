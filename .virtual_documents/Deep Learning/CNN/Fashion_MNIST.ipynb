


from tensorflow.keras.datasets import fashion_mnist
from tensorflow.keras.layers import Dense,Flatten,Conv2D,MaxPooling2D
from tensorflow.keras.models import Sequential
import numpy as np
import matplotlib.pyplot as plt
import warnings
warnings.filterwarnings('ignore')


#loading data
(train_x,train_y),(test_x,test_y)=fashion_mnist.load_data()


train_x.shape
test_x.shape


for i in range(9):
  plt.subplot(3,3,1+i)
  plt.imshow(train_x[i],cmap=plt.get_cmap('gray'))
plt.show()


for i in range(9):
  plt.subplot(3,3,1+i)
  plt.imshow(train_x[i])
plt.show()


#Feature Scaling
x_train=train_x/255
x_test=test_x/255


model=Sequential()
model.add(Conv2D(64,(3,3,),input_shape=(28,28,1),activation='relu'))
model.add(MaxPooling2D(pool_size=(2,2)))
model.add(Conv2D(64,(3,3,),activation='relu'))
model.add(MaxPooling2D(pool_size=(2,2)))
model.add(Flatten())
model.add(Dense(64,activation='relu'))
model.add(Dense(10,activation='softmax'))
model.compile(loss='sparse_categorical_crossentropy',optimizer='adam',metrics=['accuracy'])
model.fit( x_train,train_y,epochs=10,batch_size=64)
loss,accuracy=model.evaluate(x_test,test_y)
print('Test Loss',loss)
print('Test Accuracy',accuracy)


#single predictions in number category
prdictions=model.predict(x_test)
print(np.argmax(prdictions[0]))
print(test_y[0])





model=Sequential()
model.add(Conv2D(64,(3,3,),input_shape=(28,28,1),activation='relu'))
model.add(MaxPooling2D(pool_size=(2,2)))
model.add(Conv2D(64,(3,3,),activation='relu'))
model.add(MaxPooling2D(pool_size=(2,2)))
model.add(Flatten())
model.add(Dense(64,activation='relu'))
model.add(Dense(10,activation='softmax'))
model.compile(loss='sparse_categorical_crossentropy',optimizer='adam',metrics=['accuracy'])
model.fit( x_train,train_y,epochs=30,batch_size=64)
loss,accuracy=model.evaluate(x_test,test_y)
print('Test Loss',loss)
print('Test Accuracy',accuracy)


#single predictions in number category
prdictions=model.predict(x_test)
print(np.argmax(prdictions[5000]))
print(test_y[5000])


plt.imshow(test_x[5000].reshape(28,28))
plt.show()



