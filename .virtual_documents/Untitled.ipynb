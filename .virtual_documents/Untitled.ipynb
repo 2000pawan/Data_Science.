Input: txt = "abcab", pat = "ab"
Output: [0, 3]
Explanation: The string "ab" occurs twice in txt, one starts at index 0 and the other at index 3. 


txt = "abcab"
pat = "ab"
l=[]
if pat in txt:
    l.append(txt.index(pat))


l



