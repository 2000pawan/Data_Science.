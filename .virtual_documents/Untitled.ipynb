Input: txt = "abcab", pat = "ab"
Output: [0, 3]
Explanation: The string "ab" occurs twice in txt, one starts at index 0 and the other at index 3. 


txt = "abcab"
pat = "ab"
l=[]
x=txt.split(pat)
for i in x:
    l.append(x.index(''))
    x.remove('')





x=['apple',20,'orange',80]
z=str(x)
len(x)


def add():
    print(27+52)
add()


z=10
def test():
    # global c
    c=z+2
    print(c,end='#')
test()
c=15
print(c,end='%')



