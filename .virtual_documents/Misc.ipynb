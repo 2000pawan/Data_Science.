from math import sqrt
def test(n):
        x = sqrt(n * (n + 1) / 2)
        
        if x % 1 != 0:
            return -1
        else:
            return int(x)


print(test(4))


n=8
x = sqrt(n * (n + 1) / 2)
x


9/2



x='pawan'
x.capitalize()


import pandas as pd



df=pd.read_csv('G:/Coding/Git Uploads/Project/Crop Predictions/main.csv')
print((df['item'].unique()))
y=df['area'].unique()
# type(x
print(y)


df1=pd.read_csv('G:/Coding/Git Uploads/Project/Crop Predictions/test.csv')
df1


z=df['item'].values


type(z)


from functools import*
x=[1,2,3,4]
p=x.copy()
z=[]
for i in x:
    p.remove(i)
    z.append(reduce(lambda x,y: x*y,p))
    p=x.copy()
z


encode = {'team1': {'MI':1,'KKR':2,'RCB':3,'DC':4,'CSK':5,'RR':6,'DD':7,'GL':8,'KXIP':9,'SRH':10,'RPS':11,'KTK':12,'PW':13},'team2': {'MI':1,'KKR':2,'RCB':3,'DC':4,'CSK':5,'RR':6,'DD':7,'GL':8,'KXIP':9,'SRH':10,'RPS':11,'KTK':12,'PW':13},'toss_winner': {'MI':1,'KKR':2,'RCB':3,'DC':4,'CSK':5,'RR':6,'DD':7,'GL':8,'KXIP':9,'SRH':10,'RPS':11,'KTK':12,'PW':13},'winner': {'MI':1,'KKR':2,'RCB':3,'DC':4,'CSK':5,'RR':6,'DD':7,'GL':8,'KXIP':9,'SRH':10,'RPS':11,'KTK':12,'PW':13,'Draw':14},'toss_decision':{'field':0,'bat':1},
'city':{'Hyderabad':0, 'Pune':1, 'Rajkot':2, 'Indore':3, 'Bangalore':4, 'Mumbai':5,'Kolkata':6, 'Delhi':7, 'Chandigarh':8, 'Kanpur':9, 'Jaipur':10, 'Chennai':11,'Cape Town':12, 'Port Elizabeth':13, 'Durban':14, 'Centurion':15,'East London':16, 'Johannesburg':17, 'Kimberley':18, 'Bloemfontein':19,'Ahmedabad':20, 'Cuttack':21, 'Nagpur':22, 'Dharamsala':23, 'Kochi':24,'Visakhapatnam':25, 'Raipur':26, 'Ranchi':27, 'Abu Dhabi':28, 'Sharjah':29,'Dubai':30},'venue':{'Rajiv Gandhi International Stadium, Uppal':0,'Maharashtra Cricket Association Stadium':1,'Saurashtra Cricket Association Stadium':2, 'Holkar Cricket Stadium':3,'M Chinnaswamy Stadium':4, 'Wankhede Stadium':5, 'Eden Gardens':6,'Arun Jaitley Stadium':7,'Punjab Cricket Association IS Bindra Stadium, Mohali':8,'Green Park':9, 'Punjab Cricket Association Stadium, Mohali':8,'Sawai Mansingh Stadium':10, 'MA Chidambaram Stadium, Chepauk':11,'Dr DY Patil Sports Academy':5, 'Newlands':12, "St George's Park":13,'Kingsmead':14, 'SuperSport Park':15, 'Buffalo Park':16,'New Wanderers Stadium':17, 'De Beers Diamond Oval':18,'OUTsurance Oval':19, 'Brabourne Stadium':19,'Narendra Modi Stadium, Motera':20, 'Barabati Stadium':21,'Vidarbha Cricket Association Stadium, Jamtha':22,'Himachal Pradesh Cricket Association Stadium':23, 'Nehru Stadium':24,'Dr. Y.S. Rajasekhara Reddy ACA-VDCA Cricket Stadium':25,'Subrata Roy Sahara Stadium':1,'Shaheed Veer Narayan Singh International Stadium':26,'JSCA International Stadium Complex':27, 'Sheikh Zayed Stadium':28,'Sharjah Cricket Stadium':29, 'Dubai International Cricket Stadium':30}}  


z=encode['team1'].keys()
encode['team1'].items()


encode['team1']


encode['team2'].keys()


value_to_find=5
key = next(key for key, value in encode['team1'].items() if value == value_to_find)


key


z


x=[170,45,75,90,802,24,2,66]
y=[[],[],[],[],[],[],[],[],[],[]]
z=max(x)
p=1
while (z)//p>0:
    while len(x)>0:
        v=x.pop()
        l=(v//p)%10
        y[l].append(v)
    for i in y:
        while len(i)>0:
            v=i.pop()
            x.append(v)
    p*=10
x


x=[170,45,75,90,802,24,2,66]
x.pop()


(802//10)


[[90, 75, 66, 45, 24, 2], [170], [], [], [], [], [], [], [802], []]



def merge_sort(arr):
    if len(arr)<=1:
        return arr
    mid=len(arr)//2
    left=arr[:mid]
    right=arr[mid:]
    s_left=merge_sort(left)
    s_right=merge_sort(right)
    return merge(s_left,s_right)
def merge(left,right):
    result=[]
    i=j=0
    while i<len(left) and j<len(right):
        if left[i]<right[j]:
            result.append(left[i])
            i+=1
        else:
            result.append(right[j])
            j+=1
    result.extend(left[i:])
    result.extend(right[j:])
    return result
arr=[3,7,6,-10,15,23.5,55,-13]
sorted_arr=merge_sort(arr)
print(sorted_arr)


s ="Hello World"
str1=s.rstrip()
x=''
for i in str1[-1::-1]:
    if i==' ':
        break
    else:
        x+=i
print(len(x))


a=10
b=5
a,b=b,a
print(a)
b


x='Pawan'
if 'a' in x:
    print(True)
else:
    print(False)


x={'a':10,'b':20,'c':30}
for i in x.items():
    print(i)


s="leEeetcode"
q=[s]
p=[i for i in s]
z=''
for i in range(0,len(p)-2):
    if p[i]==p[i+1].lower() and p[i+1].isupper():
        z+=p[i]+p[i+1]
if z in q[0]:
    


[0]*7





nums=[-1,2,-3,3]
nums.sort(reverse=True)
nums


def findMaxK(nums):
    nums.sort(reverse=True)
    for i in nums:
        if -i in nums:
            return i
nums=[-1,10,6,7,-7,1]
print(findMaxK(nums))


# Ask in interview 29-04-2024
# [-1,0,1,-1,2,3,0,4,4]  it is output
x=[8,16,24,1,25,3,10,65,55]
a=[]
y=[]
for i,j in enumerate(x):
    a.append(x[i])
    a.sort(reverse=True)
    for k in a:
        if j>k:
            y.append(x.index(k))
            break
    else:
        y.append(-1)
print(y)


version1 = "1.1.1"
version2 = "1"
if '.' in version1 and '.' in version2:
    x=version1.split('.')
    y=version2.split('.')
    if x[0]==y[0]:
        print(0)
    elif x[0]<y[0]:
        print(-1)
    else:
        print(1)
elif version1[0]==version2[0]:
    if x[0]==y[0]:
        print(0)
    elif x[0]<y[0]:
        print(-1)
    else:
        print(1)
else:
    if x[0]==y[0]:
        print(0)
    elif x[0]<y[0]:
        print(-1)
    else:
        print(1)


version1[0]


class Solution:
    def numRescueBoats(self, p, limit):
        p.sort()
        x=0
        l, r=0, len(p)-1
        while l<=r:
            x+=1
            if p[l]+p[r]<=limit:
                l+=1
            r-=1
        return x


x=Solution()
result=x.numRescueBoats([5,4,2],3)
print(result)


score = [10,3,8,9,4]
x=[i for i in sorted(score,reverse=True)]
y=[i for i in range(4,len(score)+1)]
l=[]
c=0
for i in score:
    if i==x[0]:
        l.append('Gold Medal')
    elif i==x[1]:
        l.append('Silver Medal')
    elif i==x[2]:
        l.append('Bronze Medal')
    elif i==x[-1]:
        l.append(y[-1])
    elif i==x[-2]:
        l.append(y[-2])
l


x


["Gold Medal","5","Bronze Medal","Silver Medal","4"]


x= [[9,9,8,1],[5,6,2,6],[8,2,6,4],[6,2,2,2]]



l=[]+[[1]]
l+[[2]]



# import libraries of python OpenCV    
import cv2  
  
# import Numpy by alias name np  
import numpy as np  
  
# capture frames from a camera   
cap = cv2.VideoCapture(0)  
  
# loop runs if capturing has been initialized   
while (1):  
  
    # reads frames from a camera   
    ret, frame = cap.read()  
  
    # converting BGR to HSV   
    hsv = cv2.cvtColor(frame, cv2.COLOR_BGR2HSV)  
    # define range of red color in HSV   
    lower_red = np.array([30, 150, 50])  
    upper_red = np.array([255, 255, 180])  
  
    # create a red HSV colour boundary and    
    # threshold HSV image   
    mask = cv2.inRange(hsv, lower_red, upper_red)  
  
    # Bitwise-AND mask and original image   
    res = cv2.bitwise_and(frame, frame, mask=mask)  
  
    # Display an original image   
    cv2.imshow('Original', frame)  
  
    # discovers edges in the input image image and   
    # marks them in the output map edges   
    edges = cv2.Canny(frame, 100, 200)  
  
    # Display edges in a frame   
    cv2.imshow('Edges', edges)  
  
    # Wait for Esc key to stop   
    k = cv2.waitKey(5) & 0xFF  
    if k == 27:   
        break  
  
# Close the window   
cap.release()  
  
# De-allocate any associated memory usage   
cv2.destroyAllWindows()  


import cv2  
import numpy as np  
  
cap = cv2.VideoCapture(0)  
  
while(True):  
    # Capture image frame-by-frame  
    ret, frame = cap.read()  
  
    # Our operations on the frame come here  
    gray = cv2.cvtColor(frame, cv2.COLOR_BGR2GRAY)  
  
    # Display the resulting frame  
    cv2.imshow('frame',gray)  
    if cv2.waitKey(1) & 0xFF == ord('q'):  
        break  
        
  
# When everything done, release the capture  
cap.release()  
cv2.waitKey(3)
cv2.destroyAllWindows()  


# Importing Libraries 
import cv2 
import mediapipe as mp 

# Used to convert protobuf message to a dictionary. 
from google.protobuf.json_format import MessageToDict 

# Initializing the Model 
mpHands = mp.solutions.hands 
hands = mpHands.Hands( 
	static_image_mode=False, 
	model_complexity=1, 
	min_detection_confidence=0.75, 
	min_tracking_confidence=0.75, 
	max_num_hands=2) 

# Start capturing video from webcam 
cap = cv2.VideoCapture(0) 

while True: 
	# Read video frame by frame 
	success, img = cap.read() 

	# Flip the image(frame) 
	img = cv2.flip(img, 1) 

	# Convert BGR image to RGB image 
	imgRGB = cv2.cvtColor(img, cv2.COLOR_BGR2RGB) 

	# Process the RGB image 
	results = hands.process(imgRGB) 

	# If hands are present in image(frame) 
	if results.multi_hand_landmarks: 

		# Both Hands are present in image(frame) 
		if len(results.multi_handedness) == 2: 
				# Display 'Both Hands' on the image 
			cv2.putText(img, 'Both Hands', (250, 50), 
						cv2.FONT_HERSHEY_COMPLEX, 
						0.9, (0, 255, 0), 2) 

		# If any hand present 
		else: 
			for i in results.multi_handedness: 
				
				# Return whether it is Right or Left Hand 
				label = MessageToDict(i)['classification'][0]['label'] 

				if label == 'Left': 
					
					# Display 'Left Hand' on 
					# left side of window 
					cv2.putText(img, label+' Hand', 
								(20, 50), 
								cv2.FONT_HERSHEY_COMPLEX, 
								0.9, (0, 255, 0), 2) 

				if label == 'Right': 
					
					# Display 'Left Hand' 
					# on left side of window 
					cv2.putText(img, label+' Hand', (460, 50), 
								cv2.FONT_HERSHEY_COMPLEX, 
								0.9, (0, 255, 0), 2) 

	# Display Video and when 'q' 
	# is entered, destroy the window 
	cv2.imshow('Image', img) 
	if cv2.waitKey(1) & 0xff == ord('q'): 
		break



# Importing Libraries 
import cv2 
import mediapipe as mp 
from math import hypot 
import screen_brightness_control as sbc 
import numpy as np 

# Initializing the Model 
mpHands = mp.solutions.hands 
hands = mpHands.Hands( 
	static_image_mode=False, 
	model_complexity=1, 
	min_detection_confidence=0.75, 
	min_tracking_confidence=0.75, 
	max_num_hands=2) 

Draw = mp.solutions.drawing_utils 

# Start capturing video from webcam 
cap = cv2.VideoCapture(0) 

while True: 
	# Read video frame by frame 
	_, frame = cap.read() 

	# Flip image 
	frame = cv2.flip(frame, 1) 

	# Convert BGR image to RGB image 
	frameRGB = cv2.cvtColor(frame, cv2.COLOR_BGR2RGB) 

	# Process the RGB image 
	Process = hands.process(frameRGB) 

	landmarkList = [] 
	# if hands are present in image(frame) 
	if Process.multi_hand_landmarks: 
		# detect handmarks 
		for handlm in Process.multi_hand_landmarks: 
			for _id, landmarks in enumerate(handlm.landmark): 
				# store height and width of image 
				height, width, color_channels = frame.shape 

				# calculate and append x, y coordinates 
				# of handmarks from image(frame) to lmList 
				x, y = int(landmarks.x*width), int(landmarks.y*height) 
				landmarkList.append([_id, x, y]) 

			# draw Landmarks 
			Draw.draw_landmarks(frame, handlm, 
								mpHands.HAND_CONNECTIONS) 

	# If landmarks list is not empty 
	if landmarkList != []: 
		# store x,y coordinates of (tip of) thumb 
		x_1, y_1 = landmarkList[4][1], landmarkList[4][2] 

		# store x,y coordinates of (tip of) index finger 
		x_2, y_2 = landmarkList[8][1], landmarkList[8][2] 

		# draw circle on thumb and index finger tip 
		cv2.circle(frame, (x_1, y_1), 7, (0, 255, 0), cv2.FILLED) 
		cv2.circle(frame, (x_2, y_2), 7, (0, 255, 0), cv2.FILLED) 

		# draw line from tip of thumb to tip of index finger 
		cv2.line(frame, (x_1, y_1), (x_2, y_2), (0, 255, 0), 3) 

		# calculate square root of the sum of 
		# squares of the specified arguments. 
		L = hypot(x_2-x_1, y_2-y_1) 

		# 1-D linear interpolant to a function 
		# with given discrete data points 
		# (Hand range 15 - 220, Brightness 
		# range 0 - 100), evaluated at length. 
		b_level = np.interp(L, [15, 220], [0, 100]) 

		# set brightness 
		sbc.set_brightness(int(b_level)) 

	# Display Video and when 'q' is entered, destroy 
	# the window 
	cv2.imshow('Image', frame) 
	if cv2.waitKey(1) & 0xff == ord('q'): 
		break



nums = [2,4,6]
k = 2
x=[]
for i in nums


nums=[3,5]
nums.sort()
n=len(nums)
for x in range(n+1):
    c=sum(1 for num in nums if num>=x)
    if c==x:
        print(x)


c=sum(1 for num in nums if num>=x)
c


s = "1"
y=int(s,2)
# c=0
# while y>0:
#     if y%2==0:
#         y=y//2
#     else:
#         y+=1
#     c+=1
# c


y


x = 'Hello World'
y = ''
z = 'aeiouAEIOU'
# Extract vowels from the string x and store them in y
for i in x:
    if i in z:
        y += i
# Reverse the string of vowels
p = y[::-1]
# Create a list from the string x
l = [i for i in x]
# Replace the vowels in the list l with the reversed vowels from p
j = 0
for k in range(len(l)):
    if l[k] in y:
        l[k] = p[j]
        j += 1
vowels=''
for i in l:
    vowels+=i
vowels


def reverse_vowels(str):
    vowel='aeiouAEIOU'
    extract_vowel=''
    for i in str:
        if i in vowel:
            extract_vowel+=i
    reverse_extract_vowel=extract_vowel[::-1]
    list_str=[i for i in str]
    j=0
    for k in range(len(list_str)):
        if list_str[k] in extract_vowel:
            list_str[k]=reverse_extract_vowel[j]
            j+=1
    result=''
    for i in list_str:
        result+=i
    return result


print(reverse_vowels('Hello World'))


print(reverse_vowels('Education'))


s='hello'
l=[]
for i in s:
    l.append(ord(i))
m=0
for i in range(len(l)-1):
    n=abs(l[i]-l[i+1])
    m+=n
m


l


import pandas as pd
data = [[1, 'Vote for Biden'], [2, 'Let us make America great again!']]
df = pd.DataFrame(data, columns=['tweet_id', 'content']).astype({'tweet_id':'Int64', 'content':'object'})


df1=pd.DataFrame(df['tweet_id'][df['content'].str.len()<15])


def invalid_tweets(df: pd.DataFrame) -> pd.DataFrame:
    df=df[df['content'].str.len()>15]
    df=df[['tweet_id']]
    return df


digits='23'
x={'2':'abc','3':'def','4':'ghi','5':'jkl','6':'mno','7':'pqrs','8':'tuv','9':'wxyz'}
c=[]
l=[]
for i in digits:
    c.append(x[i])



c


l


nums1=[1,2,3,0,0,0]
nums2=[2,5,6]
m=3
n=3
x=[nums1[i] for i in range(m)]
y=[nums2[i] for i in range(n)]
z=x+y
z.sort()


nums1.clear()
z=x+y
for i in z:
    nums1.append(i)
nums1.sort()
nums1


nums = [0,1,2,2,3,0,4,2]
val = 2
nums.sort()
for i in nums:
    if i == val:
        nums.remove(i)
nums


s = "the sky is blue"
print(s)
l=s.split()
l=l[::-1]
x=''
for i in l:
    x+=i
    x+=' '


x
s


len(s)


import pandas as pd


class Solution:
    def commonChars(self, words):
        # Initialize a list to store common characters
        common_chars = []

        # Iterate through each character of the first word
        for char in words[0]:
            # Check if the character is present in all other words
            if all(char in word for word in words):
                # Count the minimum occurrences of the character across all words
                min_count = min(word.count(char) for word in words)
                
                # Add the character to the result as many times as its minimum count
                common_chars.extend([char] * min_count)

                # Remove the character from each word the minimum number of times to handle duplicates correctly
                words = [word.replace(char, '', min_count) for word in words]

        return common_chars


solution = Solution()
words = ["bella", "label", "roller"]
print(solution.commonChars(words))  # Output: ['e', 'l', 'l']


data = [[1, 'Daniel', 'YFEV COUGH'], [2, 'Alice', ''], [3, 'Bob', 'DIAB100 MYOP'], [4, 'George', 'ACNE DIAB100'], [5, 'Alain', 'DIAB201']]
df = pd.DataFrame(data, columns=['patient_id', 'patient_name', 'conditions']).astype({'patient_id':'int64', 'patient_name':'object', 'conditions':'object'})


df[df['conditions'].str.contains('DIAB1')]


nums = [1,2,3,4,5,6,7] 
k = 3
print(id(nums))
nums=nums[k+1::]+nums[:k+1:]
# nums.clear()
# print(id(nums))
# nums=[i for i in nums]
# nums
nums
print(id(nums))


nums = [1,2,3,4,5,6,7] 
print(id(nums))
k = 3
nums[:] = nums[-k % len(nums):] + nums[:-k % len(nums)]
print(id(nums))


nums = [0, 1, 2, 0, 3, 0, 4]
nums.sort(key=lambda x: x == 0)
nums


x = ["cat","bat","rat"]
y = "the cattle was rattled by the battery"
z=y.split(' ')
for i in x:
    for j in z:
        if i in j:
            c=z.index(j)
            z.remove(j)
            z.insert(c,i)
sentences=' '.join(i for i in z)
sentences


x = ["cat","bat","rat"]
y='cattel'
for i in x:
    if i in y:
        print(i)


x=float('inf')
y=5
x<y


# if len(nums)<2:
#             return False
#         cumulative_sum = 0

#         remainder_index_map = {0: -1}
        
#         for i in range(len(nums)):
#             cumulative_sum += nums[i]
#             remainder = cumulative_sum % k
            
#             if remainder in remainder_index_map:
#                 if i - remainder_index_map[remainder] > 1:
#                     return True
#             else:
#                 remainder_index_map[remainder] = i
        
#         return False


height = [1,8,6,2,5,4,8,3,7]


import pandas as pd
data = [[1, 'Joe', 70000, 1], [2, 'Jim', 90000, 1], [3, 'Henry', 80000, 2], [4, 'Sam', 60000, 2], [5, 'Max', 90000, 1]]
df= pd.DataFrame(data, columns=['id', 'name', 'salary', 'departmentId']).astype({'id':'Int64', 'name':'object', 'salary':'Int64', 'departmentId':'Int64'})
data = [[1, 'IT'], [2, 'Sales']]
df1= pd.DataFrame(data, columns=['id', 'name']).astype({'id':'Int64', 'name':'object'})
df2=pd.merge(df,df1,how='left',left_on='departmentId',right_on='id')
df2=df2.rename(columns={'name_x':'Employee','salary':'Salary','name_y':'Department'})
# df2 = df2.groupby('Department')['Salary'].max().reset_index()
# result = pd.merge(max_values, df2, on=['Department', 'Salary'])
# result.iloc[:,[0,3,1]]


df2


# result


df= pd.DataFrame( columns=['id', 'name', 'salary', 'departmentId']).astype({'id':'Int64', 'name':'object', 'salary':'Int64', 'departmentId':'Int64'})


df.shape[0]


import re
s='abc'
a=re.match('0-9',s)
a


from collections import deque
class Solution:
    def findWinningPlayer(self, skills, k):
        n = len(skills)
        queue = deque(range(n))
        consecutive_wins = [0] * n
        
        current_winner = queue.popleft()
        while True:
            current_player = queue.popleft()
            
            if skills[current_winner] > skills[current_player]:
                consecutive_wins[current_winner] += 1
                queue.append(current_player)
                
                if consecutive_wins[current_winner] == k:
                    return current_winner
            else:
                consecutive_wins[current_winner] = 0
                current_winner = current_player
                consecutive_wins[current_winner] += 1
                queue.append(queue.popleft())
                
                if consecutive_wins[current_winner] == k:
                    return current_winner



sol = Solution()
print(sol.findWinningPlayer([4,2,6,3,9], 2))  # Output: 2
print(sol.findWinningPlayer([2,5,4], 3))     # Output: 1
print(sol.findWinningPlayer([3,1,5,7,2], 4)) 


class Solution:
    def maximumLength(self, nums,k):
        n = len(nums)
        max_length = 0
        start = 0
        diff_count = 0

        for end in range(n):
            if end > 0 and nums[end] != nums[end - 1]:
                diff_count += 1

            while diff_count > k:
                if start + 1 < n and nums[start] != nums[start + 1]:
                    diff_count -= 1
                start += 1

            max_length = max(max_length, end - start + 1)

        return max_length


nums =[1,2,3,4,5,1]
k=0
solution = Solution()
print(solution.maximumLength(nums,k))


nums = [3, 1, 3, 4, 3]
k = 6
c = 0
i = 0
while i < len(nums):
    found_pair = False
    for j in range(i + 1, len(nums)):
        if nums[i] + nums[j] == k:
            nums.pop(j)
            nums.pop(i)
            c += 1
            found_pair = True
            break
    if not found_pair:
        i += 1

print(c)
print(nums)


import pandas as pd


data = [[1, 3.5], [2, 3.65], [3, 4.0], [4, 3.85], [5, 4.0], [6, 3.65]]
df = pd.DataFrame(data, columns=['id', 'score']).astype({'id':'Int64', 'score':'Float64'})
df['rank'] = df['score'].rank(method='dense', ascending=False).astype(int)
df = df.sort_values(by='score', ascending=False)
df


class Solution:
    def merge(self,nums1, nums2):
        nums3 = nums1 + nums2
        nums3.sort()
        n = len(nums3)
        
        if n % 2 != 0:
            return nums3[n // 2]
        else:
            mid1 = n // 2
            mid2 = mid1 - 1
            return (nums3[mid1] + nums3[mid2]) / 2


result=Solution()
print(result.merge([1,3],[2]))
print(result.merge([1,2],[3,4]))
print(result.merge([],[1,2,3,4,5]))


nums = [2,3,1,1,4]
n=1
while n<len(nums):
    if nums[]==nums[-1]:
        print(True)
    else:
        print(False)


import pandas as pd
data = [[1, 'john@example.com'], [2, 'bob@example.com'], [3, 'john@example.com']]
df= pd.DataFrame(data, columns=['id', 'email']).astype({'id':'int64', 'email':'object'})


df


df=df.drop_duplicates(subset=['email'])


df


# x=''
# for i in df['email']:
#     if i not in x:
#         x.append(i)
#     else:
#         df['email'].drop(i)


arr1 = [2,3,1,3,2,4,6,7,9,2,19]
arr2 = [2,1,4,3,9,6]
a=[i for i in arr1 if i in arr2]
order_map = {value: index for index, value in enumerate(arr2)}
sorted_a = sorted(a, key=lambda x: order_map.get(x, len(arr2)))
print(sorted_a)


Output: [2,2,2,1,4,3,3,9,6,7,19]


import pandas as pd
data = [[0, 95, 100, 105], [1, 70, None, 80]]
df= pd.DataFrame(data, columns=['product_id', 'store1', 'store2', 'store3']).astype({'product_id':'Int64', 'store1':'Int64', 'store2':'Int64', 'store3':'Int64'})
df


# Use the melt function to reshape the DataFrame
melted_df = pd.melt(df, id_vars=['product_id'], value_vars=['store1', 'store2', 'store3'],
                    var_name='store', value_name='price')

# Filter out the rows with null values in the 'price' column
result_df = melted_df.dropna(subset=['price'])

# Reset index for better readability
result_df.reset_index(drop=True, inplace=True)

print(result_df)


nums = [5,7,7,8,8,10]
target = 8
class Solution:
    def searchRange(self, nums, target):
        l=[]
        for _ in range(0,2):
            if target not in nums:
                l.append(-1)
        for _ in range(0,2):
            if target in nums:
                l.append(nums.index(target))
                nums.remove(target)
        return l


r=Solution()
r.searchRange(nums,target)


class Solution:
    def searchRange(self, nums, target):
        def findFirst(nums, target):
            left, right = 0, len(nums) - 1
            while left <= right:
                mid = (left + right) // 2
                if nums[mid] >= target:
                    right = mid - 1
                else:
                    left = mid + 1
            return left

        def findLast(nums, target):
            left, right = 0, len(nums) - 1
            while left <= right:
                mid = (left + right) // 2
                if nums[mid] <= target:
                    left = mid + 1
                else:
                    right = mid - 1
            return right

        start = findFirst(nums, target)
        end = findLast(nums, target)

        # Check if the target is not present in the array
        if start <= end and 0 <= start < len(nums) and nums[start] == target:
            return [start, end]
        else:
            return [-1, -1]


r=Solution()
r.searchRange(nums,target)


+--------+------------+---------+----------+
Output: 
+------------+--------+------------+
| day        | emp_id | total_time |
+------------+--------+------------+
| 2020-11-28 | 1      | 173        |
| 2020-11-28 | 2      | 30         |
| 2020-12-03 | 1      | 41         |
| 2020-12-09 | 2      | 27         |


import pandas as pd 
data = [['1', '2020-11-28', '4', '32'], ['1', '2020-11-28', '55', '200'], ['1', '2020-12-3', '1', '42'], ['2', '2020-11-28', '3', '33'], ['2', '2020-12-9', '47', '74']]
df = pd.DataFrame(data, columns=['emp_id', 'event_day', 'in_time', 'out_time']).astype({'emp_id':'Int64', 'event_day':'datetime64[ns]', 'in_time':'Int64', 'out_time':'Int64'})
df


df['time_spent'] = df['out_time'] - df['in_time']
    
# # Group by emp_id and event_day and sum the time spent for each group
result = df.groupby(['emp_id', 'event_day'], as_index=False)['time_spent'].sum()
    
# # Rename columns to match the required output format
result.rename(columns={'event_day': 'day', 'time_spent': 'total_time'}, inplace=True)
    
# return result


df


result


l=[]


nums=[3,2,1,2,1,7]
nums.sort()
l=set(nums)
m=min(nums)
x=max(nums)
c=len(nums)-len(l)
n=[i for i in range(m,x+1)]
n


import pandas as pd


data = [[1, 2, '2016-03-01', 5], [1, 2, '2016-05-02', 6], [2, 3, '2017-06-25', 1], [3, 1, '2016-03-02', 0], [3, 4, '2018-07-03', 5]]
df = pd.DataFrame(data, columns=['player_id', 'device_id', 'event_date', 'games_played']).astype({'player_id':'Int64', 'device_id':'Int64', 'event_date':'datetime64[ns]', 'games_played':'Int64'})
df


import pandas as pd
def game_analysis(df: pd.DataFrame) -> pd.DataFrame:
    df['event_date'] = pd.to_datetime(df['event_date'])
    first_login_df = df.groupby('player_id')['event_date'].min().reset_index()
    first_login_df = first_login_df.rename(columns={'event_date': 'first_login'})
    return first_login_df


game_analysis(df)


gain =[44,32,-9,52,23,-50,50,33,-84,47,-14,84,36,-62,37,81,-36,-85,-39,67,-63,64,-47,95,91,-40,65,67,92,-28,97,100,81]
l=[]
c=0
for i in gain:
    l.append(c)
    c+=i
l.append(c)
max(l)


class Solution:
    def judgeSquareSum(self, c: int) -> bool:
        for i in range(0, int(c**0.5) + 1):
            j = c - i**2
            if int(j**0.5)**2 == j:
                return True
        return False


x=Solution()
y=int(input())
print(x.judgeSquareSum(y))


import pandas as pd
data = [[1, 1], [2, 2], [3, 3], [4, 3]]
df = pd.DataFrame(data, columns=['order_number', 'customer_number']).astype({'order_number':'Int64', 'customer_number':'Int64'})
df


# Step 1: Group by customer_number and count the orders
order_counts = df.groupby('customer_number').size().reset_index(name='order_count')
order_counts

# # Step 2: Find the maximum order count
max_order_count = order_counts['order_count'].max()
max_order_count

# # Step 3: Filter for the customer(s) with the maximum order count
customers_with_max_orders = order_counts[order_counts['order_count'] == max_order_count]
customers_with_max_orders
# # Display the result
# print(customers_with_max_orders[['customer_number']])


from collections import Counter
cnt=Counter(df['customer_number'])


cntmax(cnt.values())


l='kl'
l.index('k')
l=[]
l.pop()


s="leet**cod*e"
l=[i for i in s]
c=''
for i in l:
    if i =='*':
        print(i)
        x=l.index(i)-1
        l.remove(l[x])
        l.remove(i)
for i in l:
    c+=i
c


import pandas as pd
data = [[1, 'Alice'], [7, 'Bob'], [11, 'Meir'], [90, 'Winston'], [3, 'Jonathan']]
df= pd.DataFrame(data, columns=['id', 'name']).astype({'id':'int64', 'name':'object'})
data = [[3, 1], [11, 2], [90, 3]]
df1 = pd.DataFrame(data, columns=['id', 'unique_id']).astype({'id':'int64', 'unique_id':'int64'})
df1


df


df3=pd.merge(df,df1,on='id',how='left')
df3['unique_id'].fillna('null',inplace=True)


df3


s ="3[a]2[bc]"
x=''
y='[]'
l=[i for i in s if i not in y]
z=''.join(l)
for i in range(len(s)-1):
    if s[i].isdigit() and s[i+1].islower():
        x+=int(l[i])*l[i+1]


x=''
y='[]'
l=[i for i in s if i not in y]
z=''.join(l)
for i in range(len(s)-1):
    if s[i].isdigit() and s[i+1].islower():
        x+=int(l[i])*l[i+1]


x = "sadbutsad" 
y = "sad"
# x=len(needle)
# y=[haystack[i:i+x] for i in range(0, len(haystack), x)]
z=[i for i in x]
if y in x:
    print( z.index(y[0]))


n = 5
roads = [[0,1],[1,2],[2,3],[0,2],[1,3],[2,4]]
l=[]
for i in roads:
    for j in i:
        if j not in l:
            l.append(j)
x=[i for i in range(1,n+1)]
z={i:j for i,j in zip(l,x)}
c=0
n=[i for j in roads for i in j]
for i in n:
    c+=z[i]


s ='0P'
x=''
for i in s:
    if i.isalpha():
        x+=i
x=x.lower()
if x==x[-1::-1]:
    print(True)


x[-1::-1]


x=9
x//2


class Solution:
    def maximumGain(self, s: str, x: int, y: int) -> int:
        score = 0
        if x > y:
            stack = []
            for char in s:
                if stack and stack[-1] == 'a' and char == 'b':
                    stack.pop()
                    score += x
                else:
                    stack.append(char)
            remaining_s = ''.join(stack)
            stack = []
            for char in remaining_s:
                if stack and stack[-1] == 'b' and char == 'a':
                    stack.pop()
                    score += y
                else:
                    stack.append(char)
        else:
            stack = []
            for char in s:
                if stack and stack[-1] == 'b' and char == 'a':
                    stack.pop()
                    score += y
                else:
                    stack.append(char)
            remaining_s = ''.join(stack)
            stack = []
            for char in remaining_s:
                if stack and stack[-1] == 'a' and char == 'b':
                    stack.pop()
                    score += x
                else:
                    stack.append(char)
        return score






nums=[5,3,2,1]
li=[]
p=0
for i in nums:
    if i<=p:
        






