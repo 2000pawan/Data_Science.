





import pandas as pd
import numpy as np
import matplotlib.pyplot as plt
import seaborn as sns
import warnings
warnings.filterwarnings("ignore")





df=pd.read_csv('G:/dataset/MLbookdataset/ML/Ml/17. EDA/cars.csv')
df.shape


df.info()


df.columns


df.columns.values


print(list(df.columns))


df.head(2)


df.tail(2)


df.head(4)


df.tail(4)





df=pd.read_csv('G:/dataset/MLbookdataset/ML/Ml/17. EDA/cars.csv')
df.drop(['MSRP','Invoice'],axis=1)


df.drop_duplicates(keep='first')


df.isnull().sum()


df.dropna(inplace=True)


df1=df.sort_values(by='MPG_City',ascending=False)
df1


df['Origin'].unique()


def origin_to_num(x):
    if x=='Asia': return 1
    if x=='Europe': return 2
    if x=='USA': return 3
df['Origin']=df['Origin'].apply(origin_to_num)
df





df=pd.read_csv('G:/dataset/MLbookdataset/ML/Ml/17. EDA/cars.csv')
df.iloc[0]


df.iloc[-1]


df.iloc[0:5]


df.iloc[:,0]


df.iloc[:,0:5]


df.iloc[[0,2,4],[1,3,5]]


df.iloc[0:5,8]


df.loc[0:5,'MPG_City']


df1=df[['EngineSize','Cylinders','Horsepower','MPG_City','MPG_Highway','Weight','Wheelbase','Length']]
df1=df.select_dtypes(include=['float64','int64'])
df1


df1.info()





df=pd.read_csv('G:/dataset/MLbookdataset/ML/Ml/17. EDA/cars.csv')
df1.describe()


df1.corr(method='pearson')


df1.corr(method='pearson')['MPG_City']





df=pd.read_csv('G:/dataset/MLbookdataset/ML/Ml/17. EDA/cars.csv')
sns.displot(data=df,x='MPG_City',bins=10,kde=True,color='red')
plt.show()


sns.regplot(x='Length',y='MPG_City',data=df,color='green')
plt.show()


df['Type'].unique()


len(df['Type'].unique())


box1=sns.boxplot(x='Type',y='MPG_City',data=df)
plt.show()


box2=sns.boxplot(x='Origin',y='MPG_City',data=df)
plt.show()


sns.pairplot(df,hue='Origin')
plt.show()











df=pd.read_csv('G:/dataset/MLbookdataset/ML/Ml/17. EDA/titanic.csv')
df


df.shape


df.info()


df.columns


df.columns.values


df.head()


df.tail()


df.head(10)


df.tail(10)





df=pd.read_csv('G:/dataset/MLbookdataset/ML/Ml/17. EDA/titanic.csv')
df


df.isnull().sum()


df['Age'].isnull().sum()


df[df['Survived']==1]


len(df[df['Survived']==1])


len(df[df['Survived']==0])


df1=df[df['Survived']==1]
df2=df[df['Survived']==0]


df3=df['Age'].dropna()
df3


df[['Name','Age']][df['Survived']==1]


df3=df.select_dtypes(include=['float64','int64'])
df3


sns.displot(data=df,x='Age',bins=10,kde=True,color='red')
plt.show()


sns.countplot(data=df1,x=df1['Sex'])
plt.show()


sns.countplot(data=df1,x=df1['Pclass'])
plt.show()



