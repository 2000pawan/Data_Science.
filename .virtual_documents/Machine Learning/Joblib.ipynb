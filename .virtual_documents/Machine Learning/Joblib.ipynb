import joblib
from sklearn.pipeline import Pipeline


import pickle


data={'name':'Pawan Yadav'}
with open('G:/pawan.pkl','wb')as f:
    pickle.dump(data,f)


with open('G:/pawan.pkl', 'rb') as f:
    p=pickle.load(f)


p


joblib.dump(data,'G:/joblib.joblib')


joblib.dump(data,'G:/joblib.pkl')


joblib.dump(data,'G:/joblib.pickle')


pic=joblib.load('G:/joblib.pickle')
p=joblib.load('G:/joblib.pkl')
j=joblib.load('G:/joblib.joblib')


print(pic)
print()
print(p)
print()
print(j)


from sklearn.neighbors import KNeighborsClassifier
import pandas as pd


df=pd.read_csv('G:/dataset/classification/fruits.csv')


X=df.iloc[:,:-1]
y=df.iloc[:,-1]


model=KNeighborsClassifier()
model.fit(X,y)


import json
import joblib


joblib.dump(model,'G:/model.pkl')


m=joblib.load('G:/model.pkl')


m.predict([[2.2,50]])


nums=[2,11,10,1,3]
k=10
nums.sort()
y=[]
x=[i for i in nums[:2]]
for i in x:
    nums.remove(i)
print(x)
nums


nums=[1,1,2,4,9]  #[2,11,10,1,3]
k=20
nums.sort()
c=0
while nums[0] < k:
    x,y=nums.pop(0),nums.pop(0)
    z=x*2+y
    nums.insert(0,z)
    c+=1
    nums.sort()
print(c)


nums=[1,1,2,4,9]  #[2,11,10,1,3]
k=20
y=[]
c=[]
for i in nums:
    if i>=k:
        y.append(i)
    else:
        nums.sort()
        x=[i for i in nums[:2]]
        for i in x:
            nums.remove(i)
        z=min(x)*2+max(x)
        nums.append(z)
        x.clear()
        c.append(z)
print(c)


nums=[1,0,1,0,1]
goal=2
count = {0: 1}
curr_sum = 0
total_subarrays = 0
for num in nums:
    curr_sum += num
    if curr_sum - goal in count:
        total_subarrays += count[curr_sum - goal]
    count[curr_sum] = count.get(curr_sum, 0) + 1
print(total_subarrays)



