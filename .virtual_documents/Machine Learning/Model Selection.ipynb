





import pandas as pd
from sklearn.model_selection import train_test_split
from sklearn.preprocessing import StandardScaler
from sklearn.svm import SVC
from sklearn.neighbors import KNeighborsClassifier
from sklearn.ensemble import RandomForestClassifier
from sklearn.naive_bayes import GaussianNB
from sklearn.linear_model import LogisticRegression
from sklearn.tree import DecisionTreeClassifier


columns=['age','sex','cp','trestbps','chol','fbs','restecg','thalach','exang','oldpeak','slope','ca','thal','num']
df=pd.read_csv('G:/dataset/MLbookdataset/ML/Ml/36. Model selection/cleveland.data',sep=',',names=columns)
df['num']=df['num'].map({0:0,1:1,2:1,3:1,4:1})
x=df.iloc[:,:-1].values
y=df.iloc[:,-1].values
x_train,x_test,y_train,y_test=train_test_split(x,y,test_size=0.3,random_state=0)
sc=StandardScaler()
x_train1=sc.fit_transform(x_train)
x_test1=sc.fit_transform(x_test)
model=SVC(kernel='rbf',random_state=1)
model.fit(x_train1,y_train)
print('Accuracy Score of SVM model on Training Data is:- ',model.score(x_train1,y_train))
print('Accuracy Score of SVM model on Testing Data is:- ',model.score(x_test1,y_test))
print('-----------------------------------------------------------------------------------------------------------------------------------------------')
print('-----------------------------------------------------------------------------------------------------------------------------------------------')
model=GaussianNB()
model.fit(x_train,y_train)
print('Accuracy Score of Naive Bayes model on Training Data is:- ',model.score(x_train,y_train))
print('Accuracy Score of Naive Bayes model on Testing Data is:- ',model.score(x_test,y_test))
print('-----------------------------------------------------------------------------------------------------------------------------------------------')
print('-----------------------------------------------------------------------------------------------------------------------------------------------')
model=LogisticRegression(solver='liblinear',random_state=1)
model.fit(x_train,y_train)
print('Accuracy Score of Logistic Regression model on Training Data is:- ',model.score(x_train,y_train))
print('Accuracy Score of Logistic Regression model on Testing Data is:- ',model.score(x_test,y_test))
print('-----------------------------------------------------------------------------------------------------------------------------------------------')
print('-----------------------------------------------------------------------------------------------------------------------------------------------')
model=DecisionTreeClassifier(random_state=1)
model.fit(x_train,y_train)
print('Accuracy Score of Decision Tree model on Training Data is:- ',model.score(x_train,y_train))
print('Accuracy Score of Decision Tree model on Testing Data is:- ',model.score(x_test,y_test))
print('-----------------------------------------------------------------------------------------------------------------------------------------------')
print('-----------------------------------------------------------------------------------------------------------------------------------------------')
model=RandomForestClassifier(random_state=1)
model.fit(x_train,y_train)
print('Accuracy Score of Random Forest model on Training Data is:- ',model.score(x_train,y_train))
print('Accuracy Score of Random Forest model on Testing Data is:- ',model.score(x_test,y_test))
print('-----------------------------------------------------------------------------------------------------------------------------------------------')
print('-----------------------------------------------------------------------------------------------------------------------------------------------')
model=KNeighborsClassifier(n_neighbors=5)
model.fit(x_train,y_train)
print('Accuracy Score of K-Neighbors model on Training Data is:- ',model.score(x_train,y_train))
print('Accuracy Score of K-Neighbors model on Testing Data is:- ',model.score(x_test,y_test))
print('-----------------------------------------------------------------------------------------------------------------------------------------------')
print('-----------------------------------------------------------------------------------------------------------------------------------------------')


Model=['SVC','GaussianNB','LogisticRegression','DecisionTree','RandomForest','KNeighbors']
Train_Score=[91,85,86,100,100,76]
Test_Score=[83,84,84,72,76,67]
Deviation=[8,1,2,28,24,9]
data={'Model':Model,'Train_Score':Train_Score,'Test_Score':Test_Score,'Deviation':Deviation}
df2=pd.DataFrame(data=data)
df2



