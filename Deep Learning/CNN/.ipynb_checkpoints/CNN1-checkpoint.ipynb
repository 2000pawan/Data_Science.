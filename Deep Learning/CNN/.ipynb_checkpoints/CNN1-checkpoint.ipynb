{
  "nbformat": 4,
  "nbformat_minor": 0,
  "metadata": {
    "colab": {
      "provenance": [],
      "gpuType": "T4"
    },
    "kernelspec": {
      "name": "python3",
      "display_name": "Python 3"
    },
    "language_info": {
      "name": "python"
    },
    "accelerator": "GPU"
  },
  "cells": [
    {
      "cell_type": "markdown",
      "source": [
        "# **CNN (Convolutional Neural Network) :- **\n",
        "> Step 1:- Convolution.\n",
        "\n",
        "> Step 2:- Max Pooling.\n",
        "\n",
        "> Step 3:- Flattening,\n",
        "\n",
        "> Step 4:- Full Connection(ANN).\n",
        "\n",
        "> In a Convolutional Neural Network (CNN), a feature detector refers to the filters or kernels applied during the convolutional layers. These detectors are small matrices (often 3x3 or 5x5) used to scan through input data (like images) to extract specific features. Each detector is designed to recognize patterns like edges, textures, or more complex structures in the data.\n",
        "\n",
        "> Convolution: The feature detector (kernel/filter) slides or convolves across the input data (e.g., an image).\n",
        "Feature Extraction: At each position, the detector multiplies its values with the corresponding input values and sums them up to produce a single output value (often after adding a bias term).\n",
        "Feature Map: The results from applying the filter across all positions create a new matrix called a feature map. Each element in the feature map represents the activation of that filter at a specific location in the input.\n",
        "\n",
        "> CNNs use multiple feature detectors in each convolutional layer. These detectors are learned during the training process, where the network adjusts the values of the filters to best recognize features that help in solving the specific task (e.g., object recognition, image classification).\n",
        "\n",
        "\n",
        "\n",
        "\n"
      ],
      "metadata": {
        "id": "xPJNl_FO3i5r"
      }
    },
    {
      "cell_type": "code",
      "source": [
        "import numpy as np\n",
        "import matplotlib.pyplot as plt\n",
        "import warnings\n",
        "warnings.filterwarnings('ignore')\n",
        "from tensorflow.keras.models import Sequential\n",
        "from tensorflow.keras.datasets.cifar10 import load_data\n",
        "from tensorflow.keras.layers import Dense,Flatten,Conv2D,MaxPooling2D,Dropout"
      ],
      "metadata": {
        "id": "GUnp1-wIA01K"
      },
      "execution_count": 8,
      "outputs": []
    },
    {
      "cell_type": "code",
      "source": [
        "(X_train,y_train),(X_test,y_test)=load_data()\n",
        "X_train=X_train/255\n",
        "X_test=X_test/255\n",
        "model=Sequential()\n",
        "model.add(Conv2D(64,(3,3),activation='relu'))\n",
        "model.add(MaxPooling2D((2,2)))\n",
        "model.add(Conv2D(32,(3,3),activation='relu'))\n",
        "model.add(MaxPooling2D((2,2)))\n",
        "model.add(Flatten())\n",
        "model.add(Dropout(0.2))\n",
        "model.add(Dense(200,activation='relu'))\n",
        "model.add(Dropout(0.2))\n",
        "model.add(Dense(100,activation='relu'))\n",
        "model.add(Dense(50,activation='relu'))\n",
        "model.add(Dense(10,activation='softmax'))\n",
        "model.compile(loss='sparse_categorical_crossentropy',optimizer='adam',metrics=['accuracy'])\n",
        "model.fit(X_train,y_train,epochs=50,batch_size=1000,validation_split=0.2)"
      ],
      "metadata": {
        "id": "-SVwwzBrDGdo",
        "colab": {
          "base_uri": "https://localhost:8080/"
        },
        "outputId": "02de4895-ad98-4418-8aa2-52c830b8b581"
      },
      "execution_count": 9,
      "outputs": [
        {
          "output_type": "stream",
          "name": "stdout",
          "text": [
            "Epoch 1/50\n",
            "40/40 [==============================] - 23s 59ms/step - loss: 2.0683 - accuracy: 0.2375 - val_loss: 1.8131 - val_accuracy: 0.3398\n",
            "Epoch 2/50\n",
            "40/40 [==============================] - 1s 33ms/step - loss: 1.7006 - accuracy: 0.3775 - val_loss: 1.5555 - val_accuracy: 0.4370\n",
            "Epoch 3/50\n",
            "40/40 [==============================] - 1s 32ms/step - loss: 1.5338 - accuracy: 0.4422 - val_loss: 1.4578 - val_accuracy: 0.4723\n",
            "Epoch 4/50\n",
            "40/40 [==============================] - 1s 33ms/step - loss: 1.4377 - accuracy: 0.4780 - val_loss: 1.3803 - val_accuracy: 0.5123\n",
            "Epoch 5/50\n",
            "40/40 [==============================] - 1s 34ms/step - loss: 1.3779 - accuracy: 0.5031 - val_loss: 1.3396 - val_accuracy: 0.5306\n",
            "Epoch 6/50\n",
            "40/40 [==============================] - 1s 32ms/step - loss: 1.3334 - accuracy: 0.5211 - val_loss: 1.2633 - val_accuracy: 0.5533\n",
            "Epoch 7/50\n",
            "40/40 [==============================] - 1s 32ms/step - loss: 1.2709 - accuracy: 0.5437 - val_loss: 1.2206 - val_accuracy: 0.5690\n",
            "Epoch 8/50\n",
            "40/40 [==============================] - 1s 32ms/step - loss: 1.2211 - accuracy: 0.5629 - val_loss: 1.1717 - val_accuracy: 0.5916\n",
            "Epoch 9/50\n",
            "40/40 [==============================] - 1s 32ms/step - loss: 1.1965 - accuracy: 0.5725 - val_loss: 1.1974 - val_accuracy: 0.5793\n",
            "Epoch 10/50\n",
            "40/40 [==============================] - 1s 35ms/step - loss: 1.1590 - accuracy: 0.5865 - val_loss: 1.1284 - val_accuracy: 0.6065\n",
            "Epoch 11/50\n",
            "40/40 [==============================] - 2s 39ms/step - loss: 1.1217 - accuracy: 0.6010 - val_loss: 1.0822 - val_accuracy: 0.6228\n",
            "Epoch 12/50\n",
            "40/40 [==============================] - 1s 36ms/step - loss: 1.0905 - accuracy: 0.6133 - val_loss: 1.0532 - val_accuracy: 0.6325\n",
            "Epoch 13/50\n",
            "40/40 [==============================] - 1s 33ms/step - loss: 1.0560 - accuracy: 0.6266 - val_loss: 1.0613 - val_accuracy: 0.6289\n",
            "Epoch 14/50\n",
            "40/40 [==============================] - 1s 32ms/step - loss: 1.0284 - accuracy: 0.6340 - val_loss: 1.0171 - val_accuracy: 0.6422\n",
            "Epoch 15/50\n",
            "40/40 [==============================] - 1s 33ms/step - loss: 1.0052 - accuracy: 0.6460 - val_loss: 0.9947 - val_accuracy: 0.6538\n",
            "Epoch 16/50\n",
            "40/40 [==============================] - 1s 32ms/step - loss: 0.9886 - accuracy: 0.6499 - val_loss: 0.9738 - val_accuracy: 0.6618\n",
            "Epoch 17/50\n",
            "40/40 [==============================] - 1s 32ms/step - loss: 0.9632 - accuracy: 0.6557 - val_loss: 0.9633 - val_accuracy: 0.6678\n",
            "Epoch 18/50\n",
            "40/40 [==============================] - 1s 31ms/step - loss: 0.9479 - accuracy: 0.6629 - val_loss: 0.9438 - val_accuracy: 0.6727\n",
            "Epoch 19/50\n",
            "40/40 [==============================] - 1s 32ms/step - loss: 0.9151 - accuracy: 0.6766 - val_loss: 0.9432 - val_accuracy: 0.6709\n",
            "Epoch 20/50\n",
            "40/40 [==============================] - 1s 38ms/step - loss: 0.9043 - accuracy: 0.6809 - val_loss: 0.9340 - val_accuracy: 0.6756\n",
            "Epoch 21/50\n",
            "40/40 [==============================] - 1s 35ms/step - loss: 0.8873 - accuracy: 0.6880 - val_loss: 0.9175 - val_accuracy: 0.6841\n",
            "Epoch 22/50\n",
            "40/40 [==============================] - 1s 36ms/step - loss: 0.8675 - accuracy: 0.6952 - val_loss: 0.9234 - val_accuracy: 0.6791\n",
            "Epoch 23/50\n",
            "40/40 [==============================] - 1s 32ms/step - loss: 0.8470 - accuracy: 0.7009 - val_loss: 0.8907 - val_accuracy: 0.6917\n",
            "Epoch 24/50\n",
            "40/40 [==============================] - 1s 33ms/step - loss: 0.8303 - accuracy: 0.7063 - val_loss: 0.8845 - val_accuracy: 0.6923\n",
            "Epoch 25/50\n",
            "40/40 [==============================] - 1s 32ms/step - loss: 0.8069 - accuracy: 0.7147 - val_loss: 0.8723 - val_accuracy: 0.6999\n",
            "Epoch 26/50\n",
            "40/40 [==============================] - 1s 32ms/step - loss: 0.8043 - accuracy: 0.7146 - val_loss: 0.8841 - val_accuracy: 0.6960\n",
            "Epoch 27/50\n",
            "40/40 [==============================] - 1s 31ms/step - loss: 0.7954 - accuracy: 0.7182 - val_loss: 0.8934 - val_accuracy: 0.6930\n",
            "Epoch 28/50\n",
            "40/40 [==============================] - 1s 31ms/step - loss: 0.7710 - accuracy: 0.7284 - val_loss: 0.8769 - val_accuracy: 0.6968\n",
            "Epoch 29/50\n",
            "40/40 [==============================] - 1s 31ms/step - loss: 0.7642 - accuracy: 0.7294 - val_loss: 0.8754 - val_accuracy: 0.6995\n",
            "Epoch 30/50\n",
            "40/40 [==============================] - 1s 33ms/step - loss: 0.7449 - accuracy: 0.7360 - val_loss: 0.8533 - val_accuracy: 0.7028\n",
            "Epoch 31/50\n",
            "40/40 [==============================] - 1s 37ms/step - loss: 0.7287 - accuracy: 0.7431 - val_loss: 0.8633 - val_accuracy: 0.7011\n",
            "Epoch 32/50\n",
            "40/40 [==============================] - 2s 39ms/step - loss: 0.7191 - accuracy: 0.7457 - val_loss: 0.8331 - val_accuracy: 0.7146\n",
            "Epoch 33/50\n",
            "40/40 [==============================] - 1s 33ms/step - loss: 0.6977 - accuracy: 0.7533 - val_loss: 0.8429 - val_accuracy: 0.7105\n",
            "Epoch 34/50\n",
            "40/40 [==============================] - 1s 31ms/step - loss: 0.6899 - accuracy: 0.7576 - val_loss: 0.8417 - val_accuracy: 0.7105\n",
            "Epoch 35/50\n",
            "40/40 [==============================] - 1s 31ms/step - loss: 0.6726 - accuracy: 0.7628 - val_loss: 0.8347 - val_accuracy: 0.7156\n",
            "Epoch 36/50\n",
            "40/40 [==============================] - 1s 31ms/step - loss: 0.6674 - accuracy: 0.7636 - val_loss: 0.8316 - val_accuracy: 0.7139\n",
            "Epoch 37/50\n",
            "40/40 [==============================] - 1s 32ms/step - loss: 0.6566 - accuracy: 0.7670 - val_loss: 0.8343 - val_accuracy: 0.7163\n",
            "Epoch 38/50\n",
            "40/40 [==============================] - 1s 32ms/step - loss: 0.6479 - accuracy: 0.7709 - val_loss: 0.8268 - val_accuracy: 0.7209\n",
            "Epoch 39/50\n",
            "40/40 [==============================] - 1s 31ms/step - loss: 0.6397 - accuracy: 0.7754 - val_loss: 0.8329 - val_accuracy: 0.7197\n",
            "Epoch 40/50\n",
            "40/40 [==============================] - 1s 32ms/step - loss: 0.6306 - accuracy: 0.7747 - val_loss: 0.8382 - val_accuracy: 0.7103\n",
            "Epoch 41/50\n",
            "40/40 [==============================] - 1s 34ms/step - loss: 0.6136 - accuracy: 0.7811 - val_loss: 0.8224 - val_accuracy: 0.7139\n",
            "Epoch 42/50\n",
            "40/40 [==============================] - 1s 35ms/step - loss: 0.6050 - accuracy: 0.7849 - val_loss: 0.8127 - val_accuracy: 0.7223\n",
            "Epoch 43/50\n",
            "40/40 [==============================] - 1s 35ms/step - loss: 0.6002 - accuracy: 0.7861 - val_loss: 0.8206 - val_accuracy: 0.7197\n",
            "Epoch 44/50\n",
            "40/40 [==============================] - 1s 32ms/step - loss: 0.5806 - accuracy: 0.7930 - val_loss: 0.8030 - val_accuracy: 0.7263\n",
            "Epoch 45/50\n",
            "40/40 [==============================] - 1s 32ms/step - loss: 0.5879 - accuracy: 0.7893 - val_loss: 0.8299 - val_accuracy: 0.7223\n",
            "Epoch 46/50\n",
            "40/40 [==============================] - 1s 32ms/step - loss: 0.5630 - accuracy: 0.8003 - val_loss: 0.8255 - val_accuracy: 0.7186\n",
            "Epoch 47/50\n",
            "40/40 [==============================] - 1s 32ms/step - loss: 0.5652 - accuracy: 0.7995 - val_loss: 0.8296 - val_accuracy: 0.7197\n",
            "Epoch 48/50\n",
            "40/40 [==============================] - 1s 32ms/step - loss: 0.5464 - accuracy: 0.8059 - val_loss: 0.8212 - val_accuracy: 0.7262\n",
            "Epoch 49/50\n",
            "40/40 [==============================] - 1s 31ms/step - loss: 0.5403 - accuracy: 0.8087 - val_loss: 0.8465 - val_accuracy: 0.7128\n",
            "Epoch 50/50\n",
            "40/40 [==============================] - 1s 32ms/step - loss: 0.5367 - accuracy: 0.8097 - val_loss: 0.8388 - val_accuracy: 0.7143\n"
          ]
        },
        {
          "output_type": "execute_result",
          "data": {
            "text/plain": [
              "<keras.src.callbacks.History at 0x7ad224af4d60>"
            ]
          },
          "metadata": {},
          "execution_count": 9
        }
      ]
    },
    {
      "cell_type": "code",
      "source": [
        "model.evaluate(X_test,y_test)"
      ],
      "metadata": {
        "colab": {
          "base_uri": "https://localhost:8080/"
        },
        "id": "jXAvVD5TGxCF",
        "outputId": "d72a4fdb-b643-480c-a166-02f8001d362e"
      },
      "execution_count": 10,
      "outputs": [
        {
          "output_type": "stream",
          "name": "stdout",
          "text": [
            "313/313 [==============================] - 1s 3ms/step - loss: 0.8449 - accuracy: 0.7123\n"
          ]
        },
        {
          "output_type": "execute_result",
          "data": {
            "text/plain": [
              "[0.8448593020439148, 0.7123000025749207]"
            ]
          },
          "metadata": {},
          "execution_count": 10
        }
      ]
    },
    {
      "cell_type": "code",
      "source": [
        "(X_train,y_train),(X_test,y_test)=load_data()\n",
        "X_train=X_train/255\n",
        "X_test=X_test/255\n",
        "model=Sequential()\n",
        "model.add(Conv2D(128,(3,3),activation='relu'))\n",
        "model.add(Conv2D(64,(3,3),activation='relu'))\n",
        "model.add(MaxPooling2D((2,2)))\n",
        "model.add(Conv2D(64,(3,3),activation='relu'))\n",
        "model.add(MaxPooling2D((2,2)))\n",
        "model.add(Flatten())\n",
        "model.add(Dropout(0.2))\n",
        "model.add(Dense(200,activation='relu'))\n",
        "model.add(Dropout(0.2))\n",
        "model.add(Dense(100,activation='relu'))\n",
        "model.add(Dense(50,activation='relu'))\n",
        "model.add(Dense(10,activation='softmax'))\n",
        "model.compile(loss='sparse_categorical_crossentropy',optimizer='adam',metrics=['accuracy'])\n",
        "model.fit(X_train,y_train,epochs=50,batch_size=500,validation_split=0.2)"
      ],
      "metadata": {
        "colab": {
          "base_uri": "https://localhost:8080/"
        },
        "id": "BNvqMGdOFupG",
        "outputId": "90cc5088-3b3f-4200-ff02-e990c4fc3bee"
      },
      "execution_count": 11,
      "outputs": [
        {
          "output_type": "stream",
          "name": "stdout",
          "text": [
            "Epoch 1/50\n",
            "80/80 [==============================] - 10s 72ms/step - loss: 1.9288 - accuracy: 0.2860 - val_loss: 1.6453 - val_accuracy: 0.4033\n",
            "Epoch 2/50\n",
            "80/80 [==============================] - 5s 58ms/step - loss: 1.4970 - accuracy: 0.4520 - val_loss: 1.3714 - val_accuracy: 0.5082\n",
            "Epoch 3/50\n",
            "80/80 [==============================] - 5s 59ms/step - loss: 1.3444 - accuracy: 0.5121 - val_loss: 1.2555 - val_accuracy: 0.5505\n",
            "Epoch 4/50\n",
            "80/80 [==============================] - 5s 60ms/step - loss: 1.2086 - accuracy: 0.5632 - val_loss: 1.1317 - val_accuracy: 0.5948\n",
            "Epoch 5/50\n",
            "80/80 [==============================] - 5s 60ms/step - loss: 1.1156 - accuracy: 0.6000 - val_loss: 1.0605 - val_accuracy: 0.6290\n",
            "Epoch 6/50\n",
            "80/80 [==============================] - 5s 66ms/step - loss: 1.0421 - accuracy: 0.6297 - val_loss: 0.9701 - val_accuracy: 0.6581\n",
            "Epoch 7/50\n",
            "80/80 [==============================] - 5s 66ms/step - loss: 0.9615 - accuracy: 0.6612 - val_loss: 0.9284 - val_accuracy: 0.6724\n",
            "Epoch 8/50\n",
            "80/80 [==============================] - 5s 61ms/step - loss: 0.9102 - accuracy: 0.6775 - val_loss: 0.8889 - val_accuracy: 0.6931\n",
            "Epoch 9/50\n",
            "80/80 [==============================] - 5s 65ms/step - loss: 0.8597 - accuracy: 0.6971 - val_loss: 0.8835 - val_accuracy: 0.6955\n",
            "Epoch 10/50\n",
            "80/80 [==============================] - 5s 60ms/step - loss: 0.7999 - accuracy: 0.7151 - val_loss: 0.8546 - val_accuracy: 0.6978\n",
            "Epoch 11/50\n",
            "80/80 [==============================] - 5s 58ms/step - loss: 0.7663 - accuracy: 0.7299 - val_loss: 0.8141 - val_accuracy: 0.7165\n",
            "Epoch 12/50\n",
            "80/80 [==============================] - 5s 63ms/step - loss: 0.7225 - accuracy: 0.7457 - val_loss: 0.8363 - val_accuracy: 0.7123\n",
            "Epoch 13/50\n",
            "80/80 [==============================] - 5s 58ms/step - loss: 0.6777 - accuracy: 0.7610 - val_loss: 0.7816 - val_accuracy: 0.7317\n",
            "Epoch 14/50\n",
            "80/80 [==============================] - 5s 58ms/step - loss: 0.6482 - accuracy: 0.7736 - val_loss: 0.7844 - val_accuracy: 0.7369\n",
            "Epoch 15/50\n",
            "80/80 [==============================] - 5s 60ms/step - loss: 0.6193 - accuracy: 0.7825 - val_loss: 0.7791 - val_accuracy: 0.7401\n",
            "Epoch 16/50\n",
            "80/80 [==============================] - 5s 58ms/step - loss: 0.5878 - accuracy: 0.7911 - val_loss: 0.7852 - val_accuracy: 0.7335\n",
            "Epoch 17/50\n",
            "80/80 [==============================] - 5s 58ms/step - loss: 0.5539 - accuracy: 0.8056 - val_loss: 0.7626 - val_accuracy: 0.7441\n",
            "Epoch 18/50\n",
            "80/80 [==============================] - 5s 60ms/step - loss: 0.5273 - accuracy: 0.8119 - val_loss: 0.7740 - val_accuracy: 0.7469\n",
            "Epoch 19/50\n",
            "80/80 [==============================] - 5s 58ms/step - loss: 0.5005 - accuracy: 0.8228 - val_loss: 0.7903 - val_accuracy: 0.7346\n",
            "Epoch 20/50\n",
            "80/80 [==============================] - 5s 58ms/step - loss: 0.4769 - accuracy: 0.8284 - val_loss: 0.7859 - val_accuracy: 0.7455\n",
            "Epoch 21/50\n",
            "80/80 [==============================] - 5s 60ms/step - loss: 0.4577 - accuracy: 0.8362 - val_loss: 0.7944 - val_accuracy: 0.7477\n",
            "Epoch 22/50\n",
            "80/80 [==============================] - 5s 58ms/step - loss: 0.4374 - accuracy: 0.8453 - val_loss: 0.7748 - val_accuracy: 0.7513\n",
            "Epoch 23/50\n",
            "80/80 [==============================] - 5s 62ms/step - loss: 0.4209 - accuracy: 0.8486 - val_loss: 0.7896 - val_accuracy: 0.7483\n",
            "Epoch 24/50\n",
            "80/80 [==============================] - 5s 60ms/step - loss: 0.4016 - accuracy: 0.8569 - val_loss: 0.8050 - val_accuracy: 0.7480\n",
            "Epoch 25/50\n",
            "80/80 [==============================] - 5s 58ms/step - loss: 0.3871 - accuracy: 0.8624 - val_loss: 0.8333 - val_accuracy: 0.7440\n",
            "Epoch 26/50\n",
            "80/80 [==============================] - 5s 63ms/step - loss: 0.3798 - accuracy: 0.8635 - val_loss: 0.8247 - val_accuracy: 0.7506\n",
            "Epoch 27/50\n",
            "80/80 [==============================] - 5s 60ms/step - loss: 0.3572 - accuracy: 0.8719 - val_loss: 0.8462 - val_accuracy: 0.7413\n",
            "Epoch 28/50\n",
            "80/80 [==============================] - 5s 59ms/step - loss: 0.3491 - accuracy: 0.8756 - val_loss: 0.8484 - val_accuracy: 0.7400\n",
            "Epoch 29/50\n",
            "80/80 [==============================] - 5s 63ms/step - loss: 0.3242 - accuracy: 0.8826 - val_loss: 0.8460 - val_accuracy: 0.7479\n",
            "Epoch 30/50\n",
            "80/80 [==============================] - 5s 59ms/step - loss: 0.3227 - accuracy: 0.8855 - val_loss: 0.8362 - val_accuracy: 0.7480\n",
            "Epoch 31/50\n",
            "80/80 [==============================] - 5s 58ms/step - loss: 0.3098 - accuracy: 0.8874 - val_loss: 0.8706 - val_accuracy: 0.7457\n",
            "Epoch 32/50\n",
            "80/80 [==============================] - 5s 64ms/step - loss: 0.3055 - accuracy: 0.8888 - val_loss: 0.8647 - val_accuracy: 0.7465\n",
            "Epoch 33/50\n",
            "80/80 [==============================] - 5s 58ms/step - loss: 0.2914 - accuracy: 0.8976 - val_loss: 0.8739 - val_accuracy: 0.7463\n",
            "Epoch 34/50\n",
            "80/80 [==============================] - 5s 59ms/step - loss: 0.2902 - accuracy: 0.8973 - val_loss: 0.8783 - val_accuracy: 0.7461\n",
            "Epoch 35/50\n",
            "80/80 [==============================] - 5s 62ms/step - loss: 0.2740 - accuracy: 0.9012 - val_loss: 0.9112 - val_accuracy: 0.7437\n",
            "Epoch 36/50\n",
            "80/80 [==============================] - 5s 59ms/step - loss: 0.2633 - accuracy: 0.9037 - val_loss: 0.9393 - val_accuracy: 0.7477\n",
            "Epoch 37/50\n",
            "80/80 [==============================] - 5s 58ms/step - loss: 0.2595 - accuracy: 0.9075 - val_loss: 0.9112 - val_accuracy: 0.7498\n",
            "Epoch 38/50\n",
            "80/80 [==============================] - 5s 60ms/step - loss: 0.2472 - accuracy: 0.9113 - val_loss: 0.9449 - val_accuracy: 0.7434\n",
            "Epoch 39/50\n",
            "80/80 [==============================] - 5s 58ms/step - loss: 0.2507 - accuracy: 0.9112 - val_loss: 0.9252 - val_accuracy: 0.7489\n",
            "Epoch 40/50\n",
            "80/80 [==============================] - 5s 58ms/step - loss: 0.2427 - accuracy: 0.9128 - val_loss: 0.9203 - val_accuracy: 0.7497\n",
            "Epoch 41/50\n",
            "80/80 [==============================] - 5s 61ms/step - loss: 0.2314 - accuracy: 0.9171 - val_loss: 0.9239 - val_accuracy: 0.7492\n",
            "Epoch 42/50\n",
            "80/80 [==============================] - 5s 58ms/step - loss: 0.2285 - accuracy: 0.9166 - val_loss: 0.9496 - val_accuracy: 0.7448\n",
            "Epoch 43/50\n",
            "80/80 [==============================] - 5s 58ms/step - loss: 0.2238 - accuracy: 0.9201 - val_loss: 0.9900 - val_accuracy: 0.7478\n",
            "Epoch 44/50\n",
            "80/80 [==============================] - 5s 60ms/step - loss: 0.2258 - accuracy: 0.9201 - val_loss: 0.9592 - val_accuracy: 0.7455\n",
            "Epoch 45/50\n",
            "80/80 [==============================] - 5s 58ms/step - loss: 0.2189 - accuracy: 0.9227 - val_loss: 0.9180 - val_accuracy: 0.7456\n",
            "Epoch 46/50\n",
            "80/80 [==============================] - 5s 62ms/step - loss: 0.2226 - accuracy: 0.9218 - val_loss: 0.9556 - val_accuracy: 0.7477\n",
            "Epoch 47/50\n",
            "80/80 [==============================] - 5s 60ms/step - loss: 0.2102 - accuracy: 0.9251 - val_loss: 0.9906 - val_accuracy: 0.7490\n",
            "Epoch 48/50\n",
            "80/80 [==============================] - 5s 58ms/step - loss: 0.2093 - accuracy: 0.9261 - val_loss: 0.9948 - val_accuracy: 0.7528\n",
            "Epoch 49/50\n",
            "80/80 [==============================] - 5s 62ms/step - loss: 0.2033 - accuracy: 0.9289 - val_loss: 1.0066 - val_accuracy: 0.7470\n",
            "Epoch 50/50\n",
            "80/80 [==============================] - 5s 59ms/step - loss: 0.2009 - accuracy: 0.9286 - val_loss: 0.9690 - val_accuracy: 0.7488\n"
          ]
        },
        {
          "output_type": "execute_result",
          "data": {
            "text/plain": [
              "<keras.src.callbacks.History at 0x7ad224938820>"
            ]
          },
          "metadata": {},
          "execution_count": 11
        }
      ]
    },
    {
      "cell_type": "code",
      "source": [
        "model.evaluate(X_test,y_test)"
      ],
      "metadata": {
        "colab": {
          "base_uri": "https://localhost:8080/"
        },
        "id": "cd-YOj-DHLE9",
        "outputId": "72e0f973-e352-4061-ec31-df5c3e845d49"
      },
      "execution_count": 12,
      "outputs": [
        {
          "output_type": "stream",
          "name": "stdout",
          "text": [
            "313/313 [==============================] - 2s 4ms/step - loss: 1.0047 - accuracy: 0.7412\n"
          ]
        },
        {
          "output_type": "execute_result",
          "data": {
            "text/plain": [
              "[1.0046807527542114, 0.7411999702453613]"
            ]
          },
          "metadata": {},
          "execution_count": 12
        }
      ]
    },
    {
      "cell_type": "markdown",
      "source": [
        "# Model Deployment after saving model.\n",
        "> Model save using .h5 format."
      ],
      "metadata": {
        "id": "ffg14cyRIUtu"
      }
    },
    {
      "cell_type": "code",
      "source": [
        "model.save('/content/drive/MyDrive/DataSet/cifar10_model.h5')"
      ],
      "metadata": {
        "id": "j7PfZkrPIM9G"
      },
      "execution_count": 13,
      "outputs": []
    },
    {
      "cell_type": "code",
      "source": [],
      "metadata": {
        "id": "gTEP_K9SJMBk"
      },
      "execution_count": null,
      "outputs": []
    }
  ]
}