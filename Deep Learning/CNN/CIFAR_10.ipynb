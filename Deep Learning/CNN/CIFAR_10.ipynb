{
 "cells": [
  {
   "cell_type": "markdown",
   "metadata": {
    "id": "gwr-5GgltRVL"
   },
   "source": [
    "# ***CIFAR-10 Dataset:-***\n",
    "The CIFAR-10 dataset consists of 60000 32x32 colour images in 10 classes, with 6000 images per class.\n",
    "There are 50000 training images and 10000 test images."
   ]
  },
  {
   "cell_type": "code",
   "execution_count": 55,
   "metadata": {
    "id": "hOZNi6UJnYcO"
   },
   "outputs": [],
   "source": [
    "from tensorflow.keras.datasets.cifar10 import load_data\n",
    "import matplotlib.pyplot as plt\n",
    "import numpy as np\n",
    "from tensorflow.keras.models import Sequential\n",
    "from tensorflow.keras.layers import Dense,Flatten,Dropout"
   ]
  },
  {
   "cell_type": "code",
   "execution_count": 44,
   "metadata": {
    "id": "DXGGM6WsoDOA"
   },
   "outputs": [],
   "source": [
    "(X_train,y_train),(X_test,y_test)=load_data()\n",
    "classes=['airplane','automobile','bird','cat','deer','dog','frog','horse','ship','truck']"
   ]
  },
  {
   "cell_type": "code",
   "execution_count": 40,
   "metadata": {
    "colab": {
     "base_uri": "https://localhost:8080/",
     "height": 449
    },
    "id": "oN06dVQLos2g",
    "outputId": "14ac0b48-c320-4535-dfb9-5c658f3fd3f7"
   },
   "outputs": [
    {
     "data": {
      "image/png": "[encoded data removed]",
      "text/plain": [
       "<Figure size 640x480 with 1 Axes>"
      ]
     },
     "metadata": {},
     "output_type": "display_data"
    },
    {
     "data": {
      "application/vnd.google.colaboratory.intrinsic+json": {
       "type": "string"
      },
      "text/plain": [
       "'automobile'"
      ]
     },
     "execution_count": 40,
     "metadata": {},
     "output_type": "execute_result"
    }
   ],
   "source": [
    "plt.imshow(X_train[4])\n",
    "plt.show()\n",
    "classes[y_train[4][0]]"
   ]
  },
  {
   "cell_type": "code",
   "execution_count": 41,
   "metadata": {
    "colab": {
     "base_uri": "https://localhost:8080/",
     "height": 467
    },
    "id": "FJIj5cMappuo",
    "outputId": "f3c1bf43-fd93-44fb-8618-41eabf254fd0"
   },
   "outputs": [
    {
     "name": "stdout",
     "output_type": "stream",
     "text": [
      "Enter the index:49999\n"
     ]
    },
    {
     "data": {
      "image/png": "[encoded data removed]",
      "text/plain": [
       "<Figure size 640x480 with 1 Axes>"
      ]
     },
     "metadata": {},
     "output_type": "display_data"
    },
    {
     "name": "stdout",
     "output_type": "stream",
     "text": [
      "automobile\n"
     ]
    }
   ],
   "source": [
    "i=int(input(\"Enter the index:\"))\n",
    "plt.imshow(X_train[i])\n",
    "plt.show()\n",
    "print(classes[y_train[i][0]])"
   ]
  },
  {
   "cell_type": "code",
   "execution_count": 45,
   "metadata": {
    "colab": {
     "base_uri": "https://localhost:8080/"
    },
    "id": "bRjUle0lpwpH",
    "outputId": "8e6678b2-39a1-483c-f68a-c1956b4c1dda"
   },
   "outputs": [
    {
     "name": "stdout",
     "output_type": "stream",
     "text": [
      "Epoch 1/10\n",
      "1563/1563 [==============================] - 7s 3ms/step - loss: 5.3551 - accuracy: 0.1030\n",
      "Epoch 2/10\n",
      "1563/1563 [==============================] - 5s 3ms/step - loss: 2.3029 - accuracy: 0.0989\n",
      "Epoch 3/10\n",
      "1563/1563 [==============================] - 6s 4ms/step - loss: 2.3342 - accuracy: 0.0994\n",
      "Epoch 4/10\n",
      "1563/1563 [==============================] - 5s 3ms/step - loss: 2.3028 - accuracy: 0.1000\n",
      "Epoch 5/10\n",
      "1563/1563 [==============================] - 5s 3ms/step - loss: 2.3028 - accuracy: 0.0973\n",
      "Epoch 6/10\n",
      "1563/1563 [==============================] - 5s 4ms/step - loss: 2.3028 - accuracy: 0.0982\n",
      "Epoch 7/10\n",
      "1563/1563 [==============================] - 5s 3ms/step - loss: 2.3028 - accuracy: 0.0999\n",
      "Epoch 8/10\n",
      "1563/1563 [==============================] - 6s 4ms/step - loss: 2.3027 - accuracy: 0.0997\n",
      "Epoch 9/10\n",
      "1563/1563 [==============================] - 5s 3ms/step - loss: 2.3028 - accuracy: 0.0974\n",
      "Epoch 10/10\n",
      "1563/1563 [==============================] - 5s 3ms/step - loss: 2.3028 - accuracy: 0.0983\n"
     ]
    },
    {
     "data": {
      "text/plain": [
       "<keras.src.callbacks.History at 0x7fe04398e290>"
      ]
     },
     "execution_count": 45,
     "metadata": {},
     "output_type": "execute_result"
    }
   ],
   "source": [
    "(X_train,y_train),(X_test,y_test)=load_data()\n",
    "model=Sequential()\n",
    "model.add(Flatten())\n",
    "model.add(Dense(100,activation='relu'))\n",
    "model.add(Dense(50,activation='relu'))\n",
    "model.add(Dense(25,activation='relu'))\n",
    "model.add(Dense(10,activation='softmax'))\n",
    "model.compile(loss='sparse_categorical_crossentropy',optimizer='adam',metrics=['accuracy'])\n",
    "model.fit(X_train,y_train,epochs=10,batch_size=32)"
   ]
  },
  {
   "cell_type": "code",
   "execution_count": 46,
   "metadata": {
    "colab": {
     "base_uri": "https://localhost:8080/"
    },
    "id": "vqjMvqePqwmS",
    "outputId": "87093e2d-fa3d-4f05-886e-7d44ab6b95a7"
   },
   "outputs": [
    {
     "name": "stdout",
     "output_type": "stream",
     "text": [
      "Epoch 1/10\n",
      "1563/1563 [==============================] - 7s 4ms/step - loss: 7.6358 - accuracy: 0.2145\n",
      "Epoch 2/10\n",
      "1563/1563 [==============================] - 5s 3ms/step - loss: 2.0803 - accuracy: 0.2801\n",
      "Epoch 3/10\n",
      "1563/1563 [==============================] - 5s 3ms/step - loss: 1.9622 - accuracy: 0.3066\n",
      "Epoch 4/10\n",
      "1563/1563 [==============================] - 6s 4ms/step - loss: 2.0094 - accuracy: 0.2807\n",
      "Epoch 5/10\n",
      "1563/1563 [==============================] - 5s 3ms/step - loss: 1.9793 - accuracy: 0.2820\n",
      "Epoch 6/10\n",
      "1563/1563 [==============================] - 6s 4ms/step - loss: 1.9763 - accuracy: 0.2655\n",
      "Epoch 7/10\n",
      "1563/1563 [==============================] - 5s 3ms/step - loss: 1.9095 - accuracy: 0.2986\n",
      "Epoch 8/10\n",
      "1563/1563 [==============================] - 5s 3ms/step - loss: 1.8809 - accuracy: 0.3072\n",
      "Epoch 9/10\n",
      "1563/1563 [==============================] - 6s 4ms/step - loss: 1.8551 - accuracy: 0.3199\n",
      "Epoch 10/10\n",
      "1563/1563 [==============================] - 5s 3ms/step - loss: 1.8469 - accuracy: 0.3225\n"
     ]
    },
    {
     "data": {
      "text/plain": [
       "<keras.src.callbacks.History at 0x7fe04399d0c0>"
      ]
     },
     "execution_count": 46,
     "metadata": {},
     "output_type": "execute_result"
    }
   ],
   "source": [
    "(X_train,y_train),(X_test,y_test)=load_data()\n",
    "model=Sequential()\n",
    "model.add(Flatten())\n",
    "model.add(Dense(200,activation='relu'))\n",
    "model.add(Dense(80,activation='relu'))\n",
    "model.add(Dense(55,activation='relu'))\n",
    "model.add(Dense(10,activation='softmax'))\n",
    "model.compile(loss='sparse_categorical_crossentropy',optimizer='adam',metrics=['accuracy'])\n",
    "model.fit(X_train,y_train,epochs=10,batch_size=32)"
   ]
  },
  {
   "cell_type": "code",
   "execution_count": 47,
   "metadata": {
    "colab": {
     "base_uri": "https://localhost:8080/"
    },
    "id": "czHu85YVr7HE",
    "outputId": "aa6098bd-fd35-4992-d7c2-09a21f1e489a"
   },
   "outputs": [
    {
     "name": "stdout",
     "output_type": "stream",
     "text": [
      "Epoch 1/10\n",
      "1563/1563 [==============================] - 6s 3ms/step - loss: 1.8864 - accuracy: 0.3177\n",
      "Epoch 2/10\n",
      "1563/1563 [==============================] - 6s 4ms/step - loss: 1.7043 - accuracy: 0.3875\n",
      "Epoch 3/10\n",
      "1563/1563 [==============================] - 5s 3ms/step - loss: 1.6233 - accuracy: 0.4174\n",
      "Epoch 4/10\n",
      "1563/1563 [==============================] - 6s 4ms/step - loss: 1.5715 - accuracy: 0.4399\n",
      "Epoch 5/10\n",
      "1563/1563 [==============================] - 5s 3ms/step - loss: 1.5333 - accuracy: 0.4509\n",
      "Epoch 6/10\n",
      "1563/1563 [==============================] - 5s 3ms/step - loss: 1.5099 - accuracy: 0.4574\n",
      "Epoch 7/10\n",
      "1563/1563 [==============================] - 6s 4ms/step - loss: 1.4835 - accuracy: 0.4715\n",
      "Epoch 8/10\n",
      "1563/1563 [==============================] - 5s 3ms/step - loss: 1.4591 - accuracy: 0.4777\n",
      "Epoch 9/10\n",
      "1563/1563 [==============================] - 6s 4ms/step - loss: 1.4433 - accuracy: 0.4831\n",
      "Epoch 10/10\n",
      "1563/1563 [==============================] - 5s 3ms/step - loss: 1.4311 - accuracy: 0.4888\n"
     ]
    },
    {
     "data": {
      "text/plain": [
       "<keras.src.callbacks.History at 0x7fe01ae13730>"
      ]
     },
     "execution_count": 47,
     "metadata": {},
     "output_type": "execute_result"
    }
   ],
   "source": [
    "(X_train,y_train),(X_test,y_test)=load_data()\n",
    "X_train=X_train/255\n",
    "X_test=X_test/255\n",
    "model=Sequential()\n",
    "model.add(Flatten())\n",
    "model.add(Dense(200,activation='relu'))\n",
    "model.add(Dense(80,activation='relu'))\n",
    "model.add(Dense(55,activation='relu'))\n",
    "model.add(Dense(10,activation='softmax'))\n",
    "model.compile(loss='sparse_categorical_crossentropy',optimizer='adam',metrics=['accuracy'])\n",
    "model.fit(X_train,y_train,epochs=10,batch_size=32)"
   ]
  },
  {
   "cell_type": "code",
   "execution_count": 48,
   "metadata": {
    "colab": {
     "base_uri": "https://localhost:8080/"
    },
    "id": "-MhanGFasXKW",
    "outputId": "77075428-a2fa-466b-f004-e6455becdacd"
   },
   "outputs": [
    {
     "name": "stdout",
     "output_type": "stream",
     "text": [
      "Epoch 1/20\n",
      "1563/1563 [==============================] - 6s 3ms/step - loss: 1.8778 - accuracy: 0.3180\n",
      "Epoch 2/20\n",
      "1563/1563 [==============================] - 6s 4ms/step - loss: 1.7090 - accuracy: 0.3848\n",
      "Epoch 3/20\n",
      "1563/1563 [==============================] - 6s 4ms/step - loss: 1.6204 - accuracy: 0.4189\n",
      "Epoch 4/20\n",
      "1563/1563 [==============================] - 5s 3ms/step - loss: 1.5715 - accuracy: 0.4406\n",
      "Epoch 5/20\n",
      "1563/1563 [==============================] - 6s 4ms/step - loss: 1.5334 - accuracy: 0.4512\n",
      "Epoch 6/20\n",
      "1563/1563 [==============================] - 5s 3ms/step - loss: 1.5060 - accuracy: 0.4586\n",
      "Epoch 7/20\n",
      "1563/1563 [==============================] - 6s 4ms/step - loss: 1.4772 - accuracy: 0.4696\n",
      "Epoch 8/20\n",
      "1563/1563 [==============================] - 5s 3ms/step - loss: 1.4544 - accuracy: 0.4806\n",
      "Epoch 9/20\n",
      "1563/1563 [==============================] - 5s 3ms/step - loss: 1.4388 - accuracy: 0.4835\n",
      "Epoch 10/20\n",
      "1563/1563 [==============================] - 6s 4ms/step - loss: 1.4244 - accuracy: 0.4904\n",
      "Epoch 11/20\n",
      "1563/1563 [==============================] - 5s 3ms/step - loss: 1.4045 - accuracy: 0.4977\n",
      "Epoch 12/20\n",
      "1563/1563 [==============================] - 6s 4ms/step - loss: 1.3916 - accuracy: 0.5045\n",
      "Epoch 13/20\n",
      "1563/1563 [==============================] - 5s 3ms/step - loss: 1.3813 - accuracy: 0.5068\n",
      "Epoch 14/20\n",
      "1563/1563 [==============================] - 5s 3ms/step - loss: 1.3738 - accuracy: 0.5063\n",
      "Epoch 15/20\n",
      "1563/1563 [==============================] - 6s 4ms/step - loss: 1.3572 - accuracy: 0.5135\n",
      "Epoch 16/20\n",
      "1563/1563 [==============================] - 5s 3ms/step - loss: 1.3516 - accuracy: 0.5165\n",
      "Epoch 17/20\n",
      "1563/1563 [==============================] - 6s 4ms/step - loss: 1.3359 - accuracy: 0.5215\n",
      "Epoch 18/20\n",
      "1563/1563 [==============================] - 5s 3ms/step - loss: 1.3309 - accuracy: 0.5240\n",
      "Epoch 19/20\n",
      "1563/1563 [==============================] - 5s 3ms/step - loss: 1.3189 - accuracy: 0.5263\n",
      "Epoch 20/20\n",
      "1563/1563 [==============================] - 6s 4ms/step - loss: 1.3105 - accuracy: 0.5298\n"
     ]
    },
    {
     "data": {
      "text/plain": [
       "<keras.src.callbacks.History at 0x7fe01ad739d0>"
      ]
     },
     "execution_count": 48,
     "metadata": {},
     "output_type": "execute_result"
    }
   ],
   "source": [
    "(X_train,y_train),(X_test,y_test)=load_data()\n",
    "X_train=X_train/255\n",
    "X_test=X_test/255\n",
    "model=Sequential()\n",
    "model.add(Flatten())\n",
    "model.add(Dense(200,activation='relu'))\n",
    "model.add(Dense(100,activation='relu'))\n",
    "model.add(Dense(55,activation='relu'))\n",
    "model.add(Dense(10,activation='softmax'))\n",
    "model.compile(loss='sparse_categorical_crossentropy',optimizer='adam',metrics=['accuracy'])\n",
    "model.fit(X_train,y_train,epochs=20,batch_size=32)"
   ]
  },
  {
   "cell_type": "code",
   "execution_count": 49,
   "metadata": {
    "colab": {
     "base_uri": "https://localhost:8080/"
    },
    "id": "SXRT7X-wsr8s",
    "outputId": "ede26cdb-5e0d-4940-dbf2-eb35ad2933c7"
   },
   "outputs": [
    {
     "name": "stdout",
     "output_type": "stream",
     "text": [
      "Epoch 1/30\n",
      "1563/1563 [==============================] - 7s 4ms/step - loss: 1.8766 - accuracy: 0.3198\n",
      "Epoch 2/30\n",
      "1563/1563 [==============================] - 5s 3ms/step - loss: 1.6951 - accuracy: 0.3901\n",
      "Epoch 3/30\n",
      "1563/1563 [==============================] - 6s 4ms/step - loss: 1.6093 - accuracy: 0.4251\n",
      "Epoch 4/30\n",
      "1563/1563 [==============================] - 5s 3ms/step - loss: 1.5566 - accuracy: 0.4417\n",
      "Epoch 5/30\n",
      "1563/1563 [==============================] - 5s 3ms/step - loss: 1.5191 - accuracy: 0.4569\n",
      "Epoch 6/30\n",
      "1563/1563 [==============================] - 6s 4ms/step - loss: 1.4891 - accuracy: 0.4698\n",
      "Epoch 7/30\n",
      "1563/1563 [==============================] - 5s 3ms/step - loss: 1.4684 - accuracy: 0.4744\n",
      "Epoch 8/30\n",
      "1563/1563 [==============================] - 6s 4ms/step - loss: 1.4437 - accuracy: 0.4839\n",
      "Epoch 9/30\n",
      "1563/1563 [==============================] - 5s 3ms/step - loss: 1.4224 - accuracy: 0.4924\n",
      "Epoch 10/30\n",
      "1563/1563 [==============================] - 5s 3ms/step - loss: 1.4080 - accuracy: 0.4966\n",
      "Epoch 11/30\n",
      "1563/1563 [==============================] - 6s 4ms/step - loss: 1.3957 - accuracy: 0.4998\n",
      "Epoch 12/30\n",
      "1563/1563 [==============================] - 5s 3ms/step - loss: 1.3777 - accuracy: 0.5063\n",
      "Epoch 13/30\n",
      "1563/1563 [==============================] - 6s 4ms/step - loss: 1.3646 - accuracy: 0.5080\n",
      "Epoch 14/30\n",
      "1563/1563 [==============================] - 5s 3ms/step - loss: 1.3545 - accuracy: 0.5163\n",
      "Epoch 15/30\n",
      "1563/1563 [==============================] - 5s 3ms/step - loss: 1.3419 - accuracy: 0.5161\n",
      "Epoch 16/30\n",
      "1563/1563 [==============================] - 6s 4ms/step - loss: 1.3344 - accuracy: 0.5232\n",
      "Epoch 17/30\n",
      "1563/1563 [==============================] - 5s 3ms/step - loss: 1.3216 - accuracy: 0.5273\n",
      "Epoch 18/30\n",
      "1563/1563 [==============================] - 6s 4ms/step - loss: 1.3131 - accuracy: 0.5290\n",
      "Epoch 19/30\n",
      "1563/1563 [==============================] - 5s 3ms/step - loss: 1.3037 - accuracy: 0.5299\n",
      "Epoch 20/30\n",
      "1563/1563 [==============================] - 5s 3ms/step - loss: 1.2984 - accuracy: 0.5350\n",
      "Epoch 21/30\n",
      "1563/1563 [==============================] - 6s 4ms/step - loss: 1.2857 - accuracy: 0.5397\n",
      "Epoch 22/30\n",
      "1563/1563 [==============================] - 5s 3ms/step - loss: 1.2782 - accuracy: 0.5404\n",
      "Epoch 23/30\n",
      "1563/1563 [==============================] - 6s 4ms/step - loss: 1.2774 - accuracy: 0.5429\n",
      "Epoch 24/30\n",
      "1563/1563 [==============================] - 6s 4ms/step - loss: 1.2655 - accuracy: 0.5477\n",
      "Epoch 25/30\n",
      "1563/1563 [==============================] - 5s 3ms/step - loss: 1.2583 - accuracy: 0.5492\n",
      "Epoch 26/30\n",
      "1563/1563 [==============================] - 6s 4ms/step - loss: 1.2538 - accuracy: 0.5505\n",
      "Epoch 27/30\n",
      "1563/1563 [==============================] - 5s 3ms/step - loss: 1.2479 - accuracy: 0.5513\n",
      "Epoch 28/30\n",
      "1563/1563 [==============================] - 6s 4ms/step - loss: 1.2427 - accuracy: 0.5557\n",
      "Epoch 29/30\n",
      "1563/1563 [==============================] - 6s 4ms/step - loss: 1.2385 - accuracy: 0.5572\n",
      "Epoch 30/30\n",
      "1563/1563 [==============================] - 5s 3ms/step - loss: 1.2314 - accuracy: 0.5597\n"
     ]
    },
    {
     "data": {
      "text/plain": [
       "<keras.src.callbacks.History at 0x7fe019aefaf0>"
      ]
     },
     "execution_count": 49,
     "metadata": {},
     "output_type": "execute_result"
    }
   ],
   "source": [
    "(X_train,y_train),(X_test,y_test)=load_data()\n",
    "X_train=X_train/255\n",
    "X_test=X_test/255\n",
    "model=Sequential()\n",
    "model.add(Flatten())\n",
    "model.add(Dense(200,activation='relu'))\n",
    "model.add(Dense(100,activation='relu'))\n",
    "model.add(Dense(55,activation='relu'))\n",
    "model.add(Dense(10,activation='softmax'))\n",
    "model.compile(loss='sparse_categorical_crossentropy',optimizer='adam',metrics=['accuracy'])\n",
    "model.fit(X_train,y_train,epochs=30,batch_size=32)"
   ]
  },
  {
   "cell_type": "code",
   "execution_count": 50,
   "metadata": {
    "colab": {
     "base_uri": "https://localhost:8080/"
    },
    "id": "fXhPZgvstEeu",
    "outputId": "1a5826c8-7d2c-429d-bfcb-1c9e5e2bc4dc"
   },
   "outputs": [
    {
     "name": "stdout",
     "output_type": "stream",
     "text": [
      "Epoch 1/100\n",
      "50/50 [==============================] - 4s 22ms/step - loss: 2.4391 - accuracy: 0.1224\n",
      "Epoch 2/100\n",
      "50/50 [==============================] - 1s 17ms/step - loss: 2.2214 - accuracy: 0.1775\n",
      "Epoch 3/100\n",
      "50/50 [==============================] - 1s 17ms/step - loss: 2.1156 - accuracy: 0.2115\n",
      "Epoch 4/100\n",
      "50/50 [==============================] - 1s 17ms/step - loss: 1.9763 - accuracy: 0.2638\n",
      "Epoch 5/100\n",
      "50/50 [==============================] - 1s 17ms/step - loss: 1.8958 - accuracy: 0.2895\n",
      "Epoch 6/100\n",
      "50/50 [==============================] - 1s 18ms/step - loss: 1.8319 - accuracy: 0.3149\n",
      "Epoch 7/100\n",
      "50/50 [==============================] - 1s 17ms/step - loss: 1.7689 - accuracy: 0.3511\n",
      "Epoch 8/100\n",
      "50/50 [==============================] - 1s 18ms/step - loss: 1.7021 - accuracy: 0.3832\n",
      "Epoch 9/100\n",
      "50/50 [==============================] - 1s 17ms/step - loss: 1.6368 - accuracy: 0.4085\n",
      "Epoch 10/100\n",
      "50/50 [==============================] - 1s 17ms/step - loss: 1.5962 - accuracy: 0.4284\n",
      "Epoch 11/100\n",
      "50/50 [==============================] - 1s 17ms/step - loss: 1.5522 - accuracy: 0.4452\n",
      "Epoch 12/100\n",
      "50/50 [==============================] - 1s 18ms/step - loss: 1.5193 - accuracy: 0.4547\n",
      "Epoch 13/100\n",
      "50/50 [==============================] - 1s 20ms/step - loss: 1.5078 - accuracy: 0.4614\n",
      "Epoch 14/100\n",
      "50/50 [==============================] - 1s 20ms/step - loss: 1.4538 - accuracy: 0.4808\n",
      "Epoch 15/100\n",
      "50/50 [==============================] - 1s 20ms/step - loss: 1.4199 - accuracy: 0.4917\n",
      "Epoch 16/100\n",
      "50/50 [==============================] - 1s 18ms/step - loss: 1.3933 - accuracy: 0.5015\n",
      "Epoch 17/100\n",
      "50/50 [==============================] - 1s 17ms/step - loss: 1.3806 - accuracy: 0.5055\n",
      "Epoch 18/100\n",
      "50/50 [==============================] - 1s 17ms/step - loss: 1.3542 - accuracy: 0.5151\n",
      "Epoch 19/100\n",
      "50/50 [==============================] - 1s 18ms/step - loss: 1.3213 - accuracy: 0.5261\n",
      "Epoch 20/100\n",
      "50/50 [==============================] - 1s 17ms/step - loss: 1.2963 - accuracy: 0.5358\n",
      "Epoch 21/100\n",
      "50/50 [==============================] - 1s 18ms/step - loss: 1.2614 - accuracy: 0.5501\n",
      "Epoch 22/100\n",
      "50/50 [==============================] - 1s 17ms/step - loss: 1.2420 - accuracy: 0.5565\n",
      "Epoch 23/100\n",
      "50/50 [==============================] - 1s 18ms/step - loss: 1.2317 - accuracy: 0.5603\n",
      "Epoch 24/100\n",
      "50/50 [==============================] - 1s 17ms/step - loss: 1.2062 - accuracy: 0.5700\n",
      "Epoch 25/100\n",
      "50/50 [==============================] - 1s 17ms/step - loss: 1.1801 - accuracy: 0.5779\n",
      "Epoch 26/100\n",
      "50/50 [==============================] - 1s 17ms/step - loss: 1.1669 - accuracy: 0.5852\n",
      "Epoch 27/100\n",
      "50/50 [==============================] - 1s 17ms/step - loss: 1.1240 - accuracy: 0.5991\n",
      "Epoch 28/100\n",
      "50/50 [==============================] - 1s 21ms/step - loss: 1.1085 - accuracy: 0.6046\n",
      "Epoch 29/100\n",
      "50/50 [==============================] - 1s 20ms/step - loss: 1.0880 - accuracy: 0.6110\n",
      "Epoch 30/100\n",
      "50/50 [==============================] - 1s 20ms/step - loss: 1.0697 - accuracy: 0.6188\n",
      "Epoch 31/100\n",
      "50/50 [==============================] - 1s 18ms/step - loss: 1.0415 - accuracy: 0.6285\n",
      "Epoch 32/100\n",
      "50/50 [==============================] - 1s 18ms/step - loss: 1.0115 - accuracy: 0.6395\n",
      "Epoch 33/100\n",
      "50/50 [==============================] - 1s 18ms/step - loss: 0.9839 - accuracy: 0.6488\n",
      "Epoch 34/100\n",
      "50/50 [==============================] - 1s 18ms/step - loss: 0.9642 - accuracy: 0.6547\n",
      "Epoch 35/100\n",
      "50/50 [==============================] - 1s 17ms/step - loss: 0.9407 - accuracy: 0.6640\n",
      "Epoch 36/100\n",
      "50/50 [==============================] - 1s 17ms/step - loss: 0.9191 - accuracy: 0.6735\n",
      "Epoch 37/100\n",
      "50/50 [==============================] - 1s 17ms/step - loss: 0.8813 - accuracy: 0.6855\n",
      "Epoch 38/100\n",
      "50/50 [==============================] - 1s 17ms/step - loss: 0.8521 - accuracy: 0.6961\n",
      "Epoch 39/100\n",
      "50/50 [==============================] - 1s 17ms/step - loss: 0.8288 - accuracy: 0.7048\n",
      "Epoch 40/100\n",
      "50/50 [==============================] - 1s 17ms/step - loss: 0.7971 - accuracy: 0.7184\n",
      "Epoch 41/100\n",
      "50/50 [==============================] - 1s 17ms/step - loss: 0.7947 - accuracy: 0.7175\n",
      "Epoch 42/100\n",
      "50/50 [==============================] - 1s 18ms/step - loss: 0.7540 - accuracy: 0.7325\n",
      "Epoch 43/100\n",
      "50/50 [==============================] - 1s 20ms/step - loss: 0.7311 - accuracy: 0.7419\n",
      "Epoch 44/100\n",
      "50/50 [==============================] - 1s 20ms/step - loss: 0.6867 - accuracy: 0.7558\n",
      "Epoch 45/100\n",
      "50/50 [==============================] - 1s 20ms/step - loss: 0.6733 - accuracy: 0.7617\n",
      "Epoch 46/100\n",
      "50/50 [==============================] - 1s 18ms/step - loss: 0.6477 - accuracy: 0.7716\n",
      "Epoch 47/100\n",
      "50/50 [==============================] - 1s 18ms/step - loss: 0.6010 - accuracy: 0.7890\n",
      "Epoch 48/100\n",
      "50/50 [==============================] - 1s 17ms/step - loss: 0.5906 - accuracy: 0.7932\n",
      "Epoch 49/100\n",
      "50/50 [==============================] - 1s 18ms/step - loss: 0.5614 - accuracy: 0.8047\n",
      "Epoch 50/100\n",
      "50/50 [==============================] - 1s 17ms/step - loss: 0.5249 - accuracy: 0.8164\n",
      "Epoch 51/100\n",
      "50/50 [==============================] - 1s 18ms/step - loss: 0.4986 - accuracy: 0.8277\n",
      "Epoch 52/100\n",
      "50/50 [==============================] - 1s 17ms/step - loss: 0.4825 - accuracy: 0.8308\n",
      "Epoch 53/100\n",
      "50/50 [==============================] - 1s 18ms/step - loss: 0.4592 - accuracy: 0.8397\n",
      "Epoch 54/100\n",
      "50/50 [==============================] - 1s 17ms/step - loss: 0.4330 - accuracy: 0.8497\n",
      "Epoch 55/100\n",
      "50/50 [==============================] - 1s 18ms/step - loss: 0.4097 - accuracy: 0.8592\n",
      "Epoch 56/100\n",
      "50/50 [==============================] - 1s 17ms/step - loss: 0.3946 - accuracy: 0.8633\n",
      "Epoch 57/100\n",
      "50/50 [==============================] - 1s 19ms/step - loss: 0.3855 - accuracy: 0.8669\n",
      "Epoch 58/100\n",
      "50/50 [==============================] - 1s 21ms/step - loss: 0.3278 - accuracy: 0.8882\n",
      "Epoch 59/100\n",
      "50/50 [==============================] - 1s 22ms/step - loss: 0.3120 - accuracy: 0.8947\n",
      "Epoch 60/100\n",
      "50/50 [==============================] - 1s 20ms/step - loss: 0.2918 - accuracy: 0.9022\n",
      "Epoch 61/100\n",
      "50/50 [==============================] - 1s 18ms/step - loss: 0.2781 - accuracy: 0.9069\n",
      "Epoch 62/100\n",
      "50/50 [==============================] - 1s 17ms/step - loss: 0.2512 - accuracy: 0.9163\n",
      "Epoch 63/100\n",
      "50/50 [==============================] - 1s 18ms/step - loss: 0.2634 - accuracy: 0.9097\n",
      "Epoch 64/100\n",
      "50/50 [==============================] - 1s 17ms/step - loss: 0.2374 - accuracy: 0.9204\n",
      "Epoch 65/100\n",
      "50/50 [==============================] - 1s 17ms/step - loss: 0.2027 - accuracy: 0.9348\n",
      "Epoch 66/100\n",
      "50/50 [==============================] - 1s 17ms/step - loss: 0.1934 - accuracy: 0.9367\n",
      "Epoch 67/100\n",
      "50/50 [==============================] - 1s 18ms/step - loss: 0.1965 - accuracy: 0.9348\n",
      "Epoch 68/100\n",
      "50/50 [==============================] - 1s 17ms/step - loss: 0.1731 - accuracy: 0.9444\n",
      "Epoch 69/100\n",
      "50/50 [==============================] - 1s 17ms/step - loss: 0.1688 - accuracy: 0.9452\n",
      "Epoch 70/100\n",
      "50/50 [==============================] - 1s 18ms/step - loss: 0.1547 - accuracy: 0.9504\n",
      "Epoch 71/100\n",
      "50/50 [==============================] - 1s 17ms/step - loss: 0.1721 - accuracy: 0.9427\n",
      "Epoch 72/100\n",
      "50/50 [==============================] - 1s 19ms/step - loss: 0.1739 - accuracy: 0.9417\n",
      "Epoch 73/100\n",
      "50/50 [==============================] - 1s 21ms/step - loss: 0.1570 - accuracy: 0.9473\n",
      "Epoch 74/100\n",
      "50/50 [==============================] - 1s 20ms/step - loss: 0.1521 - accuracy: 0.9490\n",
      "Epoch 75/100\n",
      "50/50 [==============================] - 1s 20ms/step - loss: 0.1200 - accuracy: 0.9608\n",
      "Epoch 76/100\n",
      "50/50 [==============================] - 1s 18ms/step - loss: 0.0922 - accuracy: 0.9729\n",
      "Epoch 77/100\n",
      "50/50 [==============================] - 1s 17ms/step - loss: 0.0996 - accuracy: 0.9696\n",
      "Epoch 78/100\n",
      "50/50 [==============================] - 1s 18ms/step - loss: 0.0944 - accuracy: 0.9712\n",
      "Epoch 79/100\n",
      "50/50 [==============================] - 1s 17ms/step - loss: 0.0826 - accuracy: 0.9755\n",
      "Epoch 80/100\n",
      "50/50 [==============================] - 1s 18ms/step - loss: 0.0956 - accuracy: 0.9696\n",
      "Epoch 81/100\n",
      "50/50 [==============================] - 1s 17ms/step - loss: 0.1233 - accuracy: 0.9580\n",
      "Epoch 82/100\n",
      "50/50 [==============================] - 1s 17ms/step - loss: 0.1477 - accuracy: 0.9489\n",
      "Epoch 83/100\n",
      "50/50 [==============================] - 1s 17ms/step - loss: 0.1525 - accuracy: 0.9474\n",
      "Epoch 84/100\n",
      "50/50 [==============================] - 1s 18ms/step - loss: 0.1292 - accuracy: 0.9557\n",
      "Epoch 85/100\n",
      "50/50 [==============================] - 1s 18ms/step - loss: 0.1323 - accuracy: 0.9549\n",
      "Epoch 86/100\n",
      "50/50 [==============================] - 1s 18ms/step - loss: 0.0982 - accuracy: 0.9677\n",
      "Epoch 87/100\n",
      "50/50 [==============================] - 1s 21ms/step - loss: 0.0679 - accuracy: 0.9793\n",
      "Epoch 88/100\n",
      "50/50 [==============================] - 1s 20ms/step - loss: 0.0442 - accuracy: 0.9882\n",
      "Epoch 89/100\n",
      "50/50 [==============================] - 1s 20ms/step - loss: 0.0295 - accuracy: 0.9935\n",
      "Epoch 90/100\n",
      "50/50 [==============================] - 1s 20ms/step - loss: 0.0230 - accuracy: 0.9955\n",
      "Epoch 91/100\n",
      "50/50 [==============================] - 1s 18ms/step - loss: 0.0186 - accuracy: 0.9967\n",
      "Epoch 92/100\n",
      "50/50 [==============================] - 1s 18ms/step - loss: 0.0133 - accuracy: 0.9984\n",
      "Epoch 93/100\n",
      "50/50 [==============================] - 1s 18ms/step - loss: 0.0103 - accuracy: 0.9988\n",
      "Epoch 94/100\n",
      "50/50 [==============================] - 1s 18ms/step - loss: 0.0080 - accuracy: 0.9992\n",
      "Epoch 95/100\n",
      "50/50 [==============================] - 1s 18ms/step - loss: 0.0056 - accuracy: 0.9996\n",
      "Epoch 96/100\n",
      "50/50 [==============================] - 1s 18ms/step - loss: 0.0041 - accuracy: 0.9998\n",
      "Epoch 97/100\n",
      "50/50 [==============================] - 1s 17ms/step - loss: 0.0039 - accuracy: 0.9998\n",
      "Epoch 98/100\n",
      "50/50 [==============================] - 1s 18ms/step - loss: 0.0037 - accuracy: 0.9998\n",
      "Epoch 99/100\n",
      "50/50 [==============================] - 1s 18ms/step - loss: 0.0028 - accuracy: 0.9999\n",
      "Epoch 100/100\n",
      "50/50 [==============================] - 1s 17ms/step - loss: 0.0027 - accuracy: 0.9999\n"
     ]
    },
    {
     "data": {
      "text/plain": [
       "<keras.src.callbacks.History at 0x7fe01bf29720>"
      ]
     },
     "execution_count": 50,
     "metadata": {},
     "output_type": "execute_result"
    }
   ],
   "source": [
    "(X_train,y_train),(X_test,y_test)=load_data()\n",
    "X_train=X_train/255\n",
    "X_test=X_test/255\n",
    "model=Sequential()\n",
    "model.add(Flatten())\n",
    "model.add(Dense(2000,activation='relu'))\n",
    "model.add(Dense(1200,activation='relu'))\n",
    "model.add(Dense(800,activation='relu'))\n",
    "model.add(Dense(100,activation='relu'))\n",
    "model.add(Dense(10,activation='softmax'))\n",
    "model.compile(loss='sparse_categorical_crossentropy',optimizer='adam',metrics=['accuracy'])\n",
    "model.fit(X_train,y_train,epochs=100,batch_size=1000)"
   ]
  },
  {
   "cell_type": "code",
   "execution_count": 51,
   "metadata": {
    "colab": {
     "base_uri": "https://localhost:8080/"
    },
    "id": "5lqd8Gp2uPYV",
    "outputId": "5a66aca6-efe1-4583-9bd6-d1ec0bce330c"
   },
   "outputs": [
    {
     "name": "stdout",
     "output_type": "stream",
     "text": [
      "313/313 [==============================] - 1s 3ms/step - loss: 4.4209 - accuracy: 0.5364\n"
     ]
    },
    {
     "data": {
      "text/plain": [
       "[4.420856475830078, 0.5364000201225281]"
      ]
     },
     "execution_count": 51,
     "metadata": {},
     "output_type": "execute_result"
    }
   ],
   "source": [
    " model.evaluate(X_test,y_test)"
   ]
  },
  {
   "cell_type": "code",
   "execution_count": 54,
   "metadata": {
    "colab": {
     "base_uri": "https://localhost:8080/"
    },
    "id": "CwJ-Wd5eunEY",
    "outputId": "bb947bd4-e62d-4355-c4e1-a8e98100be87"
   },
   "outputs": [
    {
     "name": "stdout",
     "output_type": "stream",
     "text": [
      "Epoch 1/100\n",
      "50/50 [==============================] - 2s 10ms/step - loss: 2.0406 - accuracy: 0.2605\n",
      "Epoch 2/100\n",
      "50/50 [==============================] - 0s 10ms/step - loss: 1.8116 - accuracy: 0.3571\n",
      "Epoch 3/100\n",
      "50/50 [==============================] - 0s 9ms/step - loss: 1.7268 - accuracy: 0.3856\n",
      "Epoch 4/100\n",
      "50/50 [==============================] - 0s 10ms/step - loss: 1.6668 - accuracy: 0.4084\n",
      "Epoch 5/100\n",
      "50/50 [==============================] - 0s 10ms/step - loss: 1.6111 - accuracy: 0.4277\n",
      "Epoch 6/100\n",
      "50/50 [==============================] - 0s 9ms/step - loss: 1.5768 - accuracy: 0.4392\n",
      "Epoch 7/100\n",
      "50/50 [==============================] - 0s 10ms/step - loss: 1.5333 - accuracy: 0.4565\n",
      "Epoch 8/100\n",
      "50/50 [==============================] - 1s 11ms/step - loss: 1.5078 - accuracy: 0.4644\n",
      "Epoch 9/100\n",
      "50/50 [==============================] - 1s 12ms/step - loss: 1.4754 - accuracy: 0.4770\n",
      "Epoch 10/100\n",
      "50/50 [==============================] - 1s 13ms/step - loss: 1.4682 - accuracy: 0.4765\n",
      "Epoch 11/100\n",
      "50/50 [==============================] - 1s 12ms/step - loss: 1.4383 - accuracy: 0.4875\n",
      "Epoch 12/100\n",
      "50/50 [==============================] - 1s 12ms/step - loss: 1.4221 - accuracy: 0.4955\n",
      "Epoch 13/100\n",
      "50/50 [==============================] - 1s 13ms/step - loss: 1.3959 - accuracy: 0.5031\n",
      "Epoch 14/100\n",
      "50/50 [==============================] - 1s 10ms/step - loss: 1.3767 - accuracy: 0.5089\n",
      "Epoch 15/100\n",
      "50/50 [==============================] - 0s 10ms/step - loss: 1.3666 - accuracy: 0.5131\n",
      "Epoch 16/100\n",
      "50/50 [==============================] - 0s 10ms/step - loss: 1.3580 - accuracy: 0.5158\n",
      "Epoch 17/100\n",
      "50/50 [==============================] - 1s 10ms/step - loss: 1.3320 - accuracy: 0.5267\n",
      "Epoch 18/100\n",
      "50/50 [==============================] - 1s 10ms/step - loss: 1.3311 - accuracy: 0.5248\n",
      "Epoch 19/100\n",
      "50/50 [==============================] - 1s 10ms/step - loss: 1.3001 - accuracy: 0.5392\n",
      "Epoch 20/100\n",
      "50/50 [==============================] - 0s 10ms/step - loss: 1.2891 - accuracy: 0.5439\n",
      "Epoch 21/100\n",
      "50/50 [==============================] - 0s 10ms/step - loss: 1.2726 - accuracy: 0.5507\n",
      "Epoch 22/100\n",
      "50/50 [==============================] - 0s 9ms/step - loss: 1.2671 - accuracy: 0.5506\n",
      "Epoch 23/100\n",
      "50/50 [==============================] - 0s 10ms/step - loss: 1.2576 - accuracy: 0.5555\n",
      "Epoch 24/100\n",
      "50/50 [==============================] - 0s 9ms/step - loss: 1.2551 - accuracy: 0.5524\n",
      "Epoch 25/100\n",
      "50/50 [==============================] - 0s 10ms/step - loss: 1.2146 - accuracy: 0.5664\n",
      "Epoch 26/100\n",
      "50/50 [==============================] - 0s 9ms/step - loss: 1.2073 - accuracy: 0.5722\n",
      "Epoch 27/100\n",
      "50/50 [==============================] - 0s 10ms/step - loss: 1.2063 - accuracy: 0.5737\n",
      "Epoch 28/100\n",
      "50/50 [==============================] - 0s 9ms/step - loss: 1.1835 - accuracy: 0.5825\n",
      "Epoch 29/100\n",
      "50/50 [==============================] - 0s 10ms/step - loss: 1.1682 - accuracy: 0.5851\n",
      "Epoch 30/100\n",
      "50/50 [==============================] - 0s 9ms/step - loss: 1.1562 - accuracy: 0.5910\n",
      "Epoch 31/100\n",
      "50/50 [==============================] - 0s 10ms/step - loss: 1.1404 - accuracy: 0.5959\n",
      "Epoch 32/100\n",
      "50/50 [==============================] - 0s 9ms/step - loss: 1.1529 - accuracy: 0.5905\n",
      "Epoch 33/100\n",
      "50/50 [==============================] - 0s 10ms/step - loss: 1.1290 - accuracy: 0.5980\n",
      "Epoch 34/100\n",
      "50/50 [==============================] - 1s 10ms/step - loss: 1.1105 - accuracy: 0.6063\n",
      "Epoch 35/100\n",
      "50/50 [==============================] - 1s 12ms/step - loss: 1.0952 - accuracy: 0.6122\n",
      "Epoch 36/100\n",
      "50/50 [==============================] - 1s 12ms/step - loss: 1.0868 - accuracy: 0.6151\n",
      "Epoch 37/100\n",
      "50/50 [==============================] - 1s 12ms/step - loss: 1.0864 - accuracy: 0.6147\n",
      "Epoch 38/100\n",
      "50/50 [==============================] - 1s 12ms/step - loss: 1.0773 - accuracy: 0.6176\n",
      "Epoch 39/100\n",
      "50/50 [==============================] - 1s 12ms/step - loss: 1.0578 - accuracy: 0.6228\n",
      "Epoch 40/100\n",
      "50/50 [==============================] - 1s 12ms/step - loss: 1.0523 - accuracy: 0.6264\n",
      "Epoch 41/100\n",
      "50/50 [==============================] - 0s 9ms/step - loss: 1.0415 - accuracy: 0.6326\n",
      "Epoch 42/100\n",
      "50/50 [==============================] - 0s 9ms/step - loss: 1.0413 - accuracy: 0.6308\n",
      "Epoch 43/100\n",
      "50/50 [==============================] - 0s 10ms/step - loss: 1.0218 - accuracy: 0.6384\n",
      "Epoch 44/100\n",
      "50/50 [==============================] - 0s 10ms/step - loss: 1.0194 - accuracy: 0.6388\n",
      "Epoch 45/100\n",
      "50/50 [==============================] - 0s 9ms/step - loss: 1.0098 - accuracy: 0.6413\n",
      "Epoch 46/100\n",
      "50/50 [==============================] - 0s 10ms/step - loss: 1.0059 - accuracy: 0.6447\n",
      "Epoch 47/100\n",
      "50/50 [==============================] - 0s 9ms/step - loss: 0.9881 - accuracy: 0.6508\n",
      "Epoch 48/100\n",
      "50/50 [==============================] - 0s 10ms/step - loss: 0.9850 - accuracy: 0.6506\n",
      "Epoch 49/100\n",
      "50/50 [==============================] - 0s 9ms/step - loss: 0.9649 - accuracy: 0.6574\n",
      "Epoch 50/100\n",
      "50/50 [==============================] - 0s 9ms/step - loss: 0.9590 - accuracy: 0.6609\n",
      "Epoch 51/100\n",
      "50/50 [==============================] - 0s 10ms/step - loss: 0.9606 - accuracy: 0.6583\n",
      "Epoch 52/100\n",
      "50/50 [==============================] - 0s 10ms/step - loss: 0.9563 - accuracy: 0.6613\n",
      "Epoch 53/100\n",
      "50/50 [==============================] - 0s 9ms/step - loss: 0.9379 - accuracy: 0.6677\n",
      "Epoch 54/100\n",
      "50/50 [==============================] - 0s 9ms/step - loss: 0.9209 - accuracy: 0.6722\n",
      "Epoch 55/100\n",
      "50/50 [==============================] - 0s 9ms/step - loss: 0.9157 - accuracy: 0.6757\n",
      "Epoch 56/100\n",
      "50/50 [==============================] - 0s 9ms/step - loss: 0.9081 - accuracy: 0.6781\n",
      "Epoch 57/100\n",
      "50/50 [==============================] - 0s 10ms/step - loss: 0.9158 - accuracy: 0.6748\n",
      "Epoch 58/100\n",
      "50/50 [==============================] - 0s 9ms/step - loss: 0.9160 - accuracy: 0.6749\n",
      "Epoch 59/100\n",
      "50/50 [==============================] - 0s 9ms/step - loss: 0.8727 - accuracy: 0.6912\n",
      "Epoch 60/100\n",
      "50/50 [==============================] - 0s 9ms/step - loss: 0.8814 - accuracy: 0.6905\n",
      "Epoch 61/100\n",
      "50/50 [==============================] - 0s 10ms/step - loss: 0.8734 - accuracy: 0.6920\n",
      "Epoch 62/100\n",
      "50/50 [==============================] - 1s 12ms/step - loss: 0.8641 - accuracy: 0.6951\n",
      "Epoch 63/100\n",
      "50/50 [==============================] - 1s 12ms/step - loss: 0.8554 - accuracy: 0.6970\n",
      "Epoch 64/100\n",
      "50/50 [==============================] - 1s 13ms/step - loss: 0.8451 - accuracy: 0.7015\n",
      "Epoch 65/100\n",
      "50/50 [==============================] - 1s 12ms/step - loss: 0.8594 - accuracy: 0.6976\n",
      "Epoch 66/100\n",
      "50/50 [==============================] - 1s 12ms/step - loss: 0.8416 - accuracy: 0.7012\n",
      "Epoch 67/100\n",
      "50/50 [==============================] - 1s 12ms/step - loss: 0.8420 - accuracy: 0.7022\n",
      "Epoch 68/100\n",
      "50/50 [==============================] - 0s 9ms/step - loss: 0.8237 - accuracy: 0.7089\n",
      "Epoch 69/100\n",
      "50/50 [==============================] - 0s 10ms/step - loss: 0.8205 - accuracy: 0.7102\n",
      "Epoch 70/100\n",
      "50/50 [==============================] - 0s 9ms/step - loss: 0.7927 - accuracy: 0.7220\n",
      "Epoch 71/100\n",
      "50/50 [==============================] - 0s 9ms/step - loss: 0.7997 - accuracy: 0.7179\n",
      "Epoch 72/100\n",
      "50/50 [==============================] - 0s 9ms/step - loss: 0.7980 - accuracy: 0.7171\n",
      "Epoch 73/100\n",
      "50/50 [==============================] - 0s 10ms/step - loss: 0.7861 - accuracy: 0.7240\n",
      "Epoch 74/100\n",
      "50/50 [==============================] - 0s 10ms/step - loss: 0.7740 - accuracy: 0.7281\n",
      "Epoch 75/100\n",
      "50/50 [==============================] - 0s 9ms/step - loss: 0.7715 - accuracy: 0.7263\n",
      "Epoch 76/100\n",
      "50/50 [==============================] - 1s 10ms/step - loss: 0.7679 - accuracy: 0.7286\n",
      "Epoch 77/100\n",
      "50/50 [==============================] - 0s 9ms/step - loss: 0.7677 - accuracy: 0.7288\n",
      "Epoch 78/100\n",
      "50/50 [==============================] - 0s 10ms/step - loss: 0.7540 - accuracy: 0.7349\n",
      "Epoch 79/100\n",
      "50/50 [==============================] - 0s 9ms/step - loss: 0.7586 - accuracy: 0.7330\n",
      "Epoch 80/100\n",
      "50/50 [==============================] - 0s 10ms/step - loss: 0.7487 - accuracy: 0.7363\n",
      "Epoch 81/100\n",
      "50/50 [==============================] - 0s 9ms/step - loss: 0.7238 - accuracy: 0.7457\n",
      "Epoch 82/100\n",
      "50/50 [==============================] - 0s 10ms/step - loss: 0.7324 - accuracy: 0.7425\n",
      "Epoch 83/100\n",
      "50/50 [==============================] - 0s 9ms/step - loss: 0.7379 - accuracy: 0.7402\n",
      "Epoch 84/100\n",
      "50/50 [==============================] - 0s 10ms/step - loss: 0.7079 - accuracy: 0.7509\n",
      "Epoch 85/100\n",
      "50/50 [==============================] - 0s 9ms/step - loss: 0.6966 - accuracy: 0.7549\n",
      "Epoch 86/100\n",
      "50/50 [==============================] - 0s 10ms/step - loss: 0.7051 - accuracy: 0.7524\n",
      "Epoch 87/100\n",
      "50/50 [==============================] - 0s 10ms/step - loss: 0.7086 - accuracy: 0.7489\n",
      "Epoch 88/100\n",
      "50/50 [==============================] - 1s 11ms/step - loss: 0.6938 - accuracy: 0.7571\n",
      "Epoch 89/100\n",
      "50/50 [==============================] - 1s 11ms/step - loss: 0.7052 - accuracy: 0.7514\n",
      "Epoch 90/100\n",
      "50/50 [==============================] - 1s 11ms/step - loss: 0.6873 - accuracy: 0.7585\n",
      "Epoch 91/100\n",
      "50/50 [==============================] - 1s 11ms/step - loss: 0.6820 - accuracy: 0.7588\n",
      "Epoch 92/100\n",
      "50/50 [==============================] - 1s 12ms/step - loss: 0.6741 - accuracy: 0.7649\n",
      "Epoch 93/100\n",
      "50/50 [==============================] - 1s 12ms/step - loss: 0.6601 - accuracy: 0.7685\n",
      "Epoch 94/100\n",
      "50/50 [==============================] - 1s 12ms/step - loss: 0.6514 - accuracy: 0.7706\n",
      "Epoch 95/100\n",
      "50/50 [==============================] - 0s 10ms/step - loss: 0.6485 - accuracy: 0.7732\n",
      "Epoch 96/100\n",
      "50/50 [==============================] - 0s 9ms/step - loss: 0.6572 - accuracy: 0.7700\n",
      "Epoch 97/100\n",
      "50/50 [==============================] - 0s 9ms/step - loss: 0.6436 - accuracy: 0.7744\n",
      "Epoch 98/100\n",
      "50/50 [==============================] - 0s 9ms/step - loss: 0.6292 - accuracy: 0.7794\n",
      "Epoch 99/100\n",
      "50/50 [==============================] - 0s 10ms/step - loss: 0.6422 - accuracy: 0.7741\n",
      "Epoch 100/100\n",
      "50/50 [==============================] - 0s 9ms/step - loss: 0.6324 - accuracy: 0.7787\n"
     ]
    },
    {
     "data": {
      "text/plain": [
       "<keras.src.callbacks.History at 0x7fe090234ee0>"
      ]
     },
     "execution_count": 54,
     "metadata": {},
     "output_type": "execute_result"
    }
   ],
   "source": [
    "(X_train,y_train),(X_test,y_test)=load_data()\n",
    "X_train=X_train/255\n",
    "X_test=X_test/255\n",
    "model=Sequential()\n",
    "model.add(Flatten())\n",
    "model.add(Dense(300,activation='relu'))\n",
    "model.add(Dense(200,activation='relu'))\n",
    "model.add(Dense(100,activation='relu'))\n",
    "model.add(Dense(10,activation='softmax'))\n",
    "model.compile(loss='sparse_categorical_crossentropy',optimizer='adam',metrics=['accuracy'])\n",
    "model.fit(X_train,y_train,epochs=100,batch_size=1000)"
   ]
  },
  {
   "cell_type": "code",
   "execution_count": 56,
   "metadata": {
    "colab": {
     "base_uri": "https://localhost:8080/"
    },
    "id": "a_dEGRLQvEZL",
    "outputId": "09b8433d-4ece-48ea-d9a7-704b64067eea"
   },
   "outputs": [
    {
     "name": "stdout",
     "output_type": "stream",
     "text": [
      "Epoch 1/100\n",
      "40/40 [==============================] - 4s 35ms/step - loss: 2.1336 - accuracy: 0.2098 - val_loss: 1.9264 - val_accuracy: 0.3101\n",
      "Epoch 2/100\n",
      "40/40 [==============================] - 1s 18ms/step - loss: 1.8950 - accuracy: 0.3160 - val_loss: 1.8147 - val_accuracy: 0.3437\n",
      "Epoch 3/100\n",
      "40/40 [==============================] - 1s 17ms/step - loss: 1.8102 - accuracy: 0.3503 - val_loss: 1.7414 - val_accuracy: 0.3757\n",
      "Epoch 4/100\n",
      "40/40 [==============================] - 1s 17ms/step - loss: 1.7579 - accuracy: 0.3671 - val_loss: 1.7150 - val_accuracy: 0.3916\n",
      "Epoch 5/100\n",
      "40/40 [==============================] - 1s 16ms/step - loss: 1.7219 - accuracy: 0.3824 - val_loss: 1.6654 - val_accuracy: 0.4078\n",
      "Epoch 6/100\n",
      "40/40 [==============================] - 1s 14ms/step - loss: 1.6877 - accuracy: 0.3956 - val_loss: 1.6502 - val_accuracy: 0.4179\n",
      "Epoch 7/100\n",
      "40/40 [==============================] - 1s 13ms/step - loss: 1.6743 - accuracy: 0.4011 - val_loss: 1.6126 - val_accuracy: 0.4316\n",
      "Epoch 8/100\n",
      "40/40 [==============================] - 1s 13ms/step - loss: 1.6510 - accuracy: 0.4112 - val_loss: 1.6077 - val_accuracy: 0.4269\n",
      "Epoch 9/100\n",
      "40/40 [==============================] - 1s 14ms/step - loss: 1.6181 - accuracy: 0.4209 - val_loss: 1.5801 - val_accuracy: 0.4422\n",
      "Epoch 10/100\n",
      "40/40 [==============================] - 0s 12ms/step - loss: 1.6023 - accuracy: 0.4282 - val_loss: 1.5812 - val_accuracy: 0.4409\n",
      "Epoch 11/100\n",
      "40/40 [==============================] - 0s 12ms/step - loss: 1.5837 - accuracy: 0.4347 - val_loss: 1.5529 - val_accuracy: 0.4494\n",
      "Epoch 12/100\n",
      "40/40 [==============================] - 0s 12ms/step - loss: 1.5769 - accuracy: 0.4375 - val_loss: 1.5361 - val_accuracy: 0.4534\n",
      "Epoch 13/100\n",
      "40/40 [==============================] - 1s 14ms/step - loss: 1.5601 - accuracy: 0.4390 - val_loss: 1.5439 - val_accuracy: 0.4563\n",
      "Epoch 14/100\n",
      "40/40 [==============================] - 0s 12ms/step - loss: 1.5610 - accuracy: 0.4409 - val_loss: 1.5297 - val_accuracy: 0.4519\n",
      "Epoch 15/100\n",
      "40/40 [==============================] - 0s 12ms/step - loss: 1.5444 - accuracy: 0.4475 - val_loss: 1.5104 - val_accuracy: 0.4676\n",
      "Epoch 16/100\n",
      "40/40 [==============================] - 0s 12ms/step - loss: 1.5337 - accuracy: 0.4506 - val_loss: 1.4989 - val_accuracy: 0.4701\n",
      "Epoch 17/100\n",
      "40/40 [==============================] - 1s 13ms/step - loss: 1.5159 - accuracy: 0.4575 - val_loss: 1.4975 - val_accuracy: 0.4661\n",
      "Epoch 18/100\n",
      "40/40 [==============================] - 1s 14ms/step - loss: 1.5058 - accuracy: 0.4599 - val_loss: 1.4929 - val_accuracy: 0.4727\n",
      "Epoch 19/100\n",
      "40/40 [==============================] - 1s 14ms/step - loss: 1.5038 - accuracy: 0.4638 - val_loss: 1.4940 - val_accuracy: 0.4700\n",
      "Epoch 20/100\n",
      "40/40 [==============================] - 1s 13ms/step - loss: 1.4891 - accuracy: 0.4684 - val_loss: 1.4714 - val_accuracy: 0.4780\n",
      "Epoch 21/100\n",
      "40/40 [==============================] - 1s 14ms/step - loss: 1.4787 - accuracy: 0.4726 - val_loss: 1.4771 - val_accuracy: 0.4770\n",
      "Epoch 22/100\n",
      "40/40 [==============================] - 1s 14ms/step - loss: 1.4706 - accuracy: 0.4722 - val_loss: 1.4717 - val_accuracy: 0.4823\n",
      "Epoch 23/100\n",
      "40/40 [==============================] - 1s 13ms/step - loss: 1.4673 - accuracy: 0.4762 - val_loss: 1.4727 - val_accuracy: 0.4770\n",
      "Epoch 24/100\n",
      "40/40 [==============================] - 0s 12ms/step - loss: 1.4641 - accuracy: 0.4744 - val_loss: 1.4602 - val_accuracy: 0.4802\n",
      "Epoch 25/100\n",
      "40/40 [==============================] - 1s 16ms/step - loss: 1.4609 - accuracy: 0.4751 - val_loss: 1.4742 - val_accuracy: 0.4736\n",
      "Epoch 26/100\n",
      "40/40 [==============================] - 1s 15ms/step - loss: 1.4547 - accuracy: 0.4784 - val_loss: 1.4349 - val_accuracy: 0.4897\n",
      "Epoch 27/100\n",
      "40/40 [==============================] - 1s 17ms/step - loss: 1.4530 - accuracy: 0.4792 - val_loss: 1.4429 - val_accuracy: 0.4882\n",
      "Epoch 28/100\n",
      "40/40 [==============================] - 1s 18ms/step - loss: 1.4349 - accuracy: 0.4852 - val_loss: 1.4415 - val_accuracy: 0.4933\n",
      "Epoch 29/100\n",
      "40/40 [==============================] - 1s 20ms/step - loss: 1.4311 - accuracy: 0.4845 - val_loss: 1.4230 - val_accuracy: 0.4929\n",
      "Epoch 30/100\n",
      "40/40 [==============================] - 1s 14ms/step - loss: 1.4292 - accuracy: 0.4892 - val_loss: 1.4258 - val_accuracy: 0.4898\n",
      "Epoch 31/100\n",
      "40/40 [==============================] - 0s 12ms/step - loss: 1.4175 - accuracy: 0.4959 - val_loss: 1.4481 - val_accuracy: 0.4880\n",
      "Epoch 32/100\n",
      "40/40 [==============================] - 1s 14ms/step - loss: 1.4115 - accuracy: 0.4946 - val_loss: 1.4114 - val_accuracy: 0.4966\n",
      "Epoch 33/100\n",
      "40/40 [==============================] - 1s 13ms/step - loss: 1.4157 - accuracy: 0.4909 - val_loss: 1.4241 - val_accuracy: 0.4927\n",
      "Epoch 34/100\n",
      "40/40 [==============================] - 1s 13ms/step - loss: 1.4038 - accuracy: 0.4928 - val_loss: 1.3980 - val_accuracy: 0.5034\n",
      "Epoch 35/100\n",
      "40/40 [==============================] - 1s 13ms/step - loss: 1.3941 - accuracy: 0.4992 - val_loss: 1.4048 - val_accuracy: 0.5037\n",
      "Epoch 36/100\n",
      "40/40 [==============================] - 1s 13ms/step - loss: 1.3894 - accuracy: 0.5026 - val_loss: 1.4112 - val_accuracy: 0.4971\n",
      "Epoch 37/100\n",
      "40/40 [==============================] - 1s 14ms/step - loss: 1.3898 - accuracy: 0.5028 - val_loss: 1.4037 - val_accuracy: 0.5050\n",
      "Epoch 38/100\n",
      "40/40 [==============================] - 1s 13ms/step - loss: 1.3885 - accuracy: 0.5051 - val_loss: 1.4117 - val_accuracy: 0.4986\n",
      "Epoch 39/100\n",
      "40/40 [==============================] - 1s 15ms/step - loss: 1.3918 - accuracy: 0.4998 - val_loss: 1.4212 - val_accuracy: 0.4981\n",
      "Epoch 40/100\n",
      "40/40 [==============================] - 1s 13ms/step - loss: 1.3785 - accuracy: 0.5069 - val_loss: 1.3963 - val_accuracy: 0.5069\n",
      "Epoch 41/100\n",
      "40/40 [==============================] - 1s 14ms/step - loss: 1.3703 - accuracy: 0.5082 - val_loss: 1.4084 - val_accuracy: 0.5028\n",
      "Epoch 42/100\n",
      "40/40 [==============================] - 1s 14ms/step - loss: 1.3670 - accuracy: 0.5082 - val_loss: 1.3934 - val_accuracy: 0.5010\n",
      "Epoch 43/100\n",
      "40/40 [==============================] - 1s 14ms/step - loss: 1.3636 - accuracy: 0.5109 - val_loss: 1.3876 - val_accuracy: 0.5096\n",
      "Epoch 44/100\n",
      "40/40 [==============================] - 1s 13ms/step - loss: 1.3647 - accuracy: 0.5100 - val_loss: 1.4082 - val_accuracy: 0.5020\n",
      "Epoch 45/100\n",
      "40/40 [==============================] - 1s 13ms/step - loss: 1.3547 - accuracy: 0.5128 - val_loss: 1.3974 - val_accuracy: 0.5056\n",
      "Epoch 46/100\n",
      "40/40 [==============================] - 1s 14ms/step - loss: 1.3475 - accuracy: 0.5156 - val_loss: 1.3867 - val_accuracy: 0.5081\n",
      "Epoch 47/100\n",
      "40/40 [==============================] - 1s 13ms/step - loss: 1.3555 - accuracy: 0.5137 - val_loss: 1.3877 - val_accuracy: 0.5061\n",
      "Epoch 48/100\n",
      "40/40 [==============================] - 1s 15ms/step - loss: 1.3503 - accuracy: 0.5149 - val_loss: 1.3829 - val_accuracy: 0.5116\n",
      "Epoch 49/100\n",
      "40/40 [==============================] - 1s 17ms/step - loss: 1.3467 - accuracy: 0.5175 - val_loss: 1.3832 - val_accuracy: 0.5093\n",
      "Epoch 50/100\n",
      "40/40 [==============================] - 1s 16ms/step - loss: 1.3314 - accuracy: 0.5203 - val_loss: 1.3781 - val_accuracy: 0.5140\n",
      "Epoch 51/100\n",
      "40/40 [==============================] - 1s 17ms/step - loss: 1.3270 - accuracy: 0.5228 - val_loss: 1.3783 - val_accuracy: 0.5144\n",
      "Epoch 52/100\n",
      "40/40 [==============================] - 1s 18ms/step - loss: 1.3317 - accuracy: 0.5203 - val_loss: 1.3819 - val_accuracy: 0.5109\n",
      "Epoch 53/100\n",
      "40/40 [==============================] - 1s 17ms/step - loss: 1.3291 - accuracy: 0.5234 - val_loss: 1.3734 - val_accuracy: 0.5114\n",
      "Epoch 54/100\n",
      "40/40 [==============================] - 1s 13ms/step - loss: 1.3252 - accuracy: 0.5238 - val_loss: 1.3802 - val_accuracy: 0.5137\n",
      "Epoch 55/100\n",
      "40/40 [==============================] - 1s 13ms/step - loss: 1.3209 - accuracy: 0.5268 - val_loss: 1.3692 - val_accuracy: 0.5162\n",
      "Epoch 56/100\n",
      "40/40 [==============================] - 0s 13ms/step - loss: 1.3193 - accuracy: 0.5276 - val_loss: 1.3700 - val_accuracy: 0.5173\n",
      "Epoch 57/100\n",
      "40/40 [==============================] - 1s 13ms/step - loss: 1.3132 - accuracy: 0.5306 - val_loss: 1.3868 - val_accuracy: 0.5090\n",
      "Epoch 58/100\n",
      "40/40 [==============================] - 1s 13ms/step - loss: 1.3128 - accuracy: 0.5285 - val_loss: 1.3689 - val_accuracy: 0.5181\n",
      "Epoch 59/100\n",
      "40/40 [==============================] - 1s 14ms/step - loss: 1.3057 - accuracy: 0.5319 - val_loss: 1.3730 - val_accuracy: 0.5117\n",
      "Epoch 60/100\n",
      "40/40 [==============================] - 1s 13ms/step - loss: 1.3132 - accuracy: 0.5286 - val_loss: 1.3780 - val_accuracy: 0.5123\n",
      "Epoch 61/100\n",
      "40/40 [==============================] - 1s 14ms/step - loss: 1.3075 - accuracy: 0.5287 - val_loss: 1.3845 - val_accuracy: 0.5096\n",
      "Epoch 62/100\n",
      "40/40 [==============================] - 1s 13ms/step - loss: 1.2969 - accuracy: 0.5342 - val_loss: 1.3593 - val_accuracy: 0.5182\n",
      "Epoch 63/100\n",
      "40/40 [==============================] - 0s 12ms/step - loss: 1.2961 - accuracy: 0.5359 - val_loss: 1.3595 - val_accuracy: 0.5213\n",
      "Epoch 64/100\n",
      "40/40 [==============================] - 0s 12ms/step - loss: 1.2876 - accuracy: 0.5362 - val_loss: 1.3664 - val_accuracy: 0.5169\n",
      "Epoch 65/100\n",
      "40/40 [==============================] - 0s 12ms/step - loss: 1.2908 - accuracy: 0.5344 - val_loss: 1.3869 - val_accuracy: 0.5135\n",
      "Epoch 66/100\n",
      "40/40 [==============================] - 1s 14ms/step - loss: 1.2945 - accuracy: 0.5355 - val_loss: 1.3680 - val_accuracy: 0.5109\n",
      "Epoch 67/100\n",
      "40/40 [==============================] - 1s 14ms/step - loss: 1.2845 - accuracy: 0.5376 - val_loss: 1.3804 - val_accuracy: 0.5119\n",
      "Epoch 68/100\n",
      "40/40 [==============================] - 1s 15ms/step - loss: 1.2765 - accuracy: 0.5404 - val_loss: 1.3643 - val_accuracy: 0.5167\n",
      "Epoch 69/100\n",
      "40/40 [==============================] - 1s 14ms/step - loss: 1.2856 - accuracy: 0.5404 - val_loss: 1.3651 - val_accuracy: 0.5190\n",
      "Epoch 70/100\n",
      "40/40 [==============================] - 1s 14ms/step - loss: 1.2808 - accuracy: 0.5400 - val_loss: 1.3613 - val_accuracy: 0.5142\n",
      "Epoch 71/100\n",
      "40/40 [==============================] - 1s 14ms/step - loss: 1.2772 - accuracy: 0.5380 - val_loss: 1.3684 - val_accuracy: 0.5190\n",
      "Epoch 72/100\n",
      "40/40 [==============================] - 1s 16ms/step - loss: 1.2713 - accuracy: 0.5443 - val_loss: 1.3714 - val_accuracy: 0.5186\n",
      "Epoch 73/100\n",
      "40/40 [==============================] - 1s 17ms/step - loss: 1.2753 - accuracy: 0.5422 - val_loss: 1.3691 - val_accuracy: 0.5131\n",
      "Epoch 74/100\n",
      "40/40 [==============================] - 1s 16ms/step - loss: 1.2728 - accuracy: 0.5404 - val_loss: 1.3664 - val_accuracy: 0.5187\n",
      "Epoch 75/100\n",
      "40/40 [==============================] - 1s 18ms/step - loss: 1.2694 - accuracy: 0.5439 - val_loss: 1.3640 - val_accuracy: 0.5145\n",
      "Epoch 76/100\n",
      "40/40 [==============================] - 1s 16ms/step - loss: 1.2715 - accuracy: 0.5420 - val_loss: 1.3785 - val_accuracy: 0.5125\n",
      "Epoch 77/100\n",
      "40/40 [==============================] - 1s 18ms/step - loss: 1.2588 - accuracy: 0.5473 - val_loss: 1.3560 - val_accuracy: 0.5255\n",
      "Epoch 78/100\n",
      "40/40 [==============================] - 1s 15ms/step - loss: 1.2554 - accuracy: 0.5482 - val_loss: 1.3507 - val_accuracy: 0.5214\n",
      "Epoch 79/100\n",
      "40/40 [==============================] - 1s 14ms/step - loss: 1.2525 - accuracy: 0.5484 - val_loss: 1.3754 - val_accuracy: 0.5125\n",
      "Epoch 80/100\n",
      "40/40 [==============================] - 1s 14ms/step - loss: 1.2602 - accuracy: 0.5459 - val_loss: 1.3898 - val_accuracy: 0.5082\n",
      "Epoch 81/100\n",
      "40/40 [==============================] - 0s 12ms/step - loss: 1.2581 - accuracy: 0.5484 - val_loss: 1.3659 - val_accuracy: 0.5148\n",
      "Epoch 82/100\n",
      "40/40 [==============================] - 0s 12ms/step - loss: 1.2527 - accuracy: 0.5472 - val_loss: 1.3601 - val_accuracy: 0.5204\n",
      "Epoch 83/100\n",
      "40/40 [==============================] - 1s 14ms/step - loss: 1.2502 - accuracy: 0.5517 - val_loss: 1.3619 - val_accuracy: 0.5186\n",
      "Epoch 84/100\n",
      "40/40 [==============================] - 1s 14ms/step - loss: 1.2399 - accuracy: 0.5542 - val_loss: 1.3649 - val_accuracy: 0.5206\n",
      "Epoch 85/100\n",
      "40/40 [==============================] - 0s 12ms/step - loss: 1.2445 - accuracy: 0.5520 - val_loss: 1.3560 - val_accuracy: 0.5209\n",
      "Epoch 86/100\n",
      "40/40 [==============================] - 0s 12ms/step - loss: 1.2350 - accuracy: 0.5551 - val_loss: 1.3740 - val_accuracy: 0.5147\n",
      "Epoch 87/100\n",
      "40/40 [==============================] - 1s 13ms/step - loss: 1.2438 - accuracy: 0.5546 - val_loss: 1.3703 - val_accuracy: 0.5177\n",
      "Epoch 88/100\n",
      "40/40 [==============================] - 1s 14ms/step - loss: 1.2456 - accuracy: 0.5549 - val_loss: 1.3641 - val_accuracy: 0.5201\n",
      "Epoch 89/100\n",
      "40/40 [==============================] - 1s 14ms/step - loss: 1.2417 - accuracy: 0.5522 - val_loss: 1.3589 - val_accuracy: 0.5196\n",
      "Epoch 90/100\n",
      "40/40 [==============================] - 0s 12ms/step - loss: 1.2353 - accuracy: 0.5560 - val_loss: 1.3766 - val_accuracy: 0.5172\n",
      "Epoch 91/100\n",
      "40/40 [==============================] - 1s 14ms/step - loss: 1.2430 - accuracy: 0.5520 - val_loss: 1.3512 - val_accuracy: 0.5215\n",
      "Epoch 92/100\n",
      "40/40 [==============================] - 0s 12ms/step - loss: 1.2358 - accuracy: 0.5569 - val_loss: 1.3835 - val_accuracy: 0.5153\n",
      "Epoch 93/100\n",
      "40/40 [==============================] - 0s 12ms/step - loss: 1.2356 - accuracy: 0.5543 - val_loss: 1.3563 - val_accuracy: 0.5242\n",
      "Epoch 94/100\n",
      "40/40 [==============================] - 1s 14ms/step - loss: 1.2263 - accuracy: 0.5604 - val_loss: 1.3638 - val_accuracy: 0.5224\n",
      "Epoch 95/100\n",
      "40/40 [==============================] - 1s 13ms/step - loss: 1.2313 - accuracy: 0.5591 - val_loss: 1.3683 - val_accuracy: 0.5182\n",
      "Epoch 96/100\n",
      "40/40 [==============================] - 1s 15ms/step - loss: 1.2292 - accuracy: 0.5574 - val_loss: 1.3790 - val_accuracy: 0.5198\n",
      "Epoch 97/100\n",
      "40/40 [==============================] - 1s 15ms/step - loss: 1.2235 - accuracy: 0.5604 - val_loss: 1.3658 - val_accuracy: 0.5229\n",
      "Epoch 98/100\n",
      "40/40 [==============================] - 1s 16ms/step - loss: 1.2286 - accuracy: 0.5579 - val_loss: 1.3602 - val_accuracy: 0.5182\n",
      "Epoch 99/100\n",
      "40/40 [==============================] - 1s 18ms/step - loss: 1.2216 - accuracy: 0.5596 - val_loss: 1.3658 - val_accuracy: 0.5202\n",
      "Epoch 100/100\n",
      "40/40 [==============================] - 1s 15ms/step - loss: 1.2137 - accuracy: 0.5617 - val_loss: 1.3710 - val_accuracy: 0.5225\n"
     ]
    },
    {
     "data": {
      "text/plain": [
       "<keras.src.callbacks.History at 0x7fe0a323d9f0>"
      ]
     },
     "execution_count": 56,
     "metadata": {},
     "output_type": "execute_result"
    }
   ],
   "source": [
    "(X_train,y_train),(X_test,y_test)=load_data()\n",
    "X_train=X_train/255\n",
    "X_test=X_test/255\n",
    "model=Sequential()\n",
    "model.add(Flatten())\n",
    "model.add(Dropout(0.2))\n",
    "model.add(Dense(300,activation='relu'))\n",
    "model.add(Dropout(0.2))\n",
    "model.add(Dense(200,activation='relu'))\n",
    "model.add(Dense(100,activation='relu'))\n",
    "model.add(Dense(10,activation='softmax'))\n",
    "model.compile(loss='sparse_categorical_crossentropy',optimizer='adam',metrics=['accuracy'])\n",
    "model.fit(X_train,y_train,epochs=100,batch_size=1000,validation_split=0.2)"
   ]
  },
  {
   "cell_type": "code",
   "execution_count": 57,
   "metadata": {
    "colab": {
     "base_uri": "https://localhost:8080/"
    },
    "id": "9bRTkQhBwySk",
    "outputId": "98905ea5-47e6-43af-a9f9-f11e9cdf396f"
   },
   "outputs": [
    {
     "name": "stdout",
     "output_type": "stream",
     "text": [
      "313/313 [==============================] - 1s 2ms/step - loss: 1.3533 - accuracy: 0.5247\n"
     ]
    },
    {
     "data": {
      "text/plain": [
       "[1.3532912731170654, 0.5246999859809875]"
      ]
     },
     "execution_count": 57,
     "metadata": {},
     "output_type": "execute_result"
    }
   ],
   "source": [
    "model.evaluate(X_test,y_test)"
   ]
  },
  {
   "cell_type": "code",
   "execution_count": null,
   "metadata": {
    "id": "8FNy9i26xCRq"
   },
   "outputs": [],
   "source": []
  }
 ],
 "metadata": {
  "accelerator": "GPU",
  "colab": {
   "gpuType": "T4",
   "provenance": []
  },
  "kernelspec": {
   "display_name": "Python 3 (ipykernel)",
   "language": "python",
   "name": "python3"
  },
  "language_info": {
   "codemirror_mode": {
    "name": "ipython",
    "version": 3
   },
   "file_extension": ".py",
   "mimetype": "text/x-python",
   "name": "python",
   "nbconvert_exporter": "python",
   "pygments_lexer": "ipython3",
   "version": "3.11.7"
  },
  "widgets": {
   "application/vnd.jupyter.widget-state+json": {
    "state": {},
    "version_major": 2,
    "version_minor": 0
   }
  }
 },
 "nbformat": 4,
 "nbformat_minor": 4
}
